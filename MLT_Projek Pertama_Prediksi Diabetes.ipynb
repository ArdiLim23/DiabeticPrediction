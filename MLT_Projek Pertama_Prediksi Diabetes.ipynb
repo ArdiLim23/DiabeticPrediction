{
 "cells": [
  {
   "cell_type": "markdown",
   "metadata": {
    "id": "ioZ6SCTMKeFi"
   },
   "source": [
    "# Early Diabetes Prediction\n",
    "\n",
    "Dataset : https://www.kaggle.com/datasets/andrewmvd/early-diabetes-classification"
   ]
  },
  {
   "cell_type": "markdown",
   "metadata": {
    "id": "dY9AHmIF62_t"
   },
   "source": [
    "## Import Here"
   ]
  },
  {
   "cell_type": "code",
   "execution_count": 22,
   "metadata": {
    "id": "72u0H-1l6ERq"
   },
   "outputs": [],
   "source": [
    "import numpy as np\n",
    "import matplotlib.pyplot as plt\n",
    "import pandas as pd\n",
    "%matplotlib inline\n",
    "import seaborn as sns\n",
    "import tensorflow as tf\n",
    "from sklearn.neighbors import KNeighborsClassifier\n",
    "from sklearn.linear_model import LogisticRegression\n",
    "from sklearn.svm import SVC\n",
    "from sklearn.tree import DecisionTreeClassifier\n",
    "from sklearn.ensemble import RandomForestClassifier\n",
    "from sklearn.ensemble import AdaBoostClassifier\n",
    "from sklearn.metrics import accuracy_score\n",
    "from sklearn.metrics import f1_score\n",
    "from sklearn.metrics import recall_score\n",
    "from sklearn.metrics import precision_score\n",
    "from sklearn.preprocessing import OneHotEncoder\n",
    "from sklearn.model_selection import train_test_split\n",
    "from sklearn.preprocessing import StandardScaler"
   ]
  },
  {
   "cell_type": "markdown",
   "metadata": {
    "id": "_i3-Kg_mNAaK"
   },
   "source": [
    "Beberapa tools seperti numpy, matplotlib, pandas, seaborn, scikitlearn,dst di import agar dapat digunakan pada proyek kali ini"
   ]
  },
  {
   "cell_type": "markdown",
   "metadata": {
    "id": "4ZKPAFd75zOe"
   },
   "source": [
    "## Data Loading"
   ]
  },
  {
   "cell_type": "markdown",
   "metadata": {
    "id": "4CTVAcD96-m4"
   },
   "source": [
    "Disini digunakan file dari google drive, maka sambungkan terlebih dahulu colab dengan drive pribadi kita yang memiliki dataset didalamnya dalam bentuk zip."
   ]
  },
  {
   "cell_type": "code",
   "execution_count": null,
   "metadata": {
    "colab": {
     "base_uri": "https://localhost:8080/"
    },
    "executionInfo": {
     "elapsed": 2770,
     "status": "ok",
     "timestamp": 1656400364951,
     "user": {
      "displayName": "Ardiyanto Halim",
      "userId": "08691256053057312155"
     },
     "user_tz": -420
    },
    "id": "vxQ3_jnL5CmG",
    "outputId": "54abd7de-228e-492f-ef2a-9fcab234f629"
   },
   "outputs": [],
   "source": [
    "from google.colab import drive\n",
    "drive.mount('/content/gdrive')"
   ]
  },
  {
   "cell_type": "markdown",
   "metadata": {
    "id": "peVll1IaNmwK"
   },
   "source": [
    "Dikarenakan dalam bentuk zip, maka unzip terlebih dahulu dataset yang terletak difolder \"Project_ML\""
   ]
  },
  {
   "cell_type": "code",
   "execution_count": null,
   "metadata": {
    "colab": {
     "base_uri": "https://localhost:8080/"
    },
    "executionInfo": {
     "elapsed": 5086,
     "status": "ok",
     "timestamp": 1656400370028,
     "user": {
      "displayName": "Ardiyanto Halim",
      "userId": "08691256053057312155"
     },
     "user_tz": -420
    },
    "id": "84JnaEp55NWc",
    "outputId": "1438173d-112d-4c16-84f9-553ed69a846a"
   },
   "outputs": [],
   "source": [
    "!unzip gdrive/My\\ Drive/Project_ML/Early_Diabetic_Prediction.zip"
   ]
  },
  {
   "cell_type": "markdown",
   "metadata": {
    "id": "zwIoDiVCNrRY"
   },
   "source": [
    "Kemudian membaca dataset dalam bentuk csv dengan pandas, dan memunculkan 5 baris teratas"
   ]
  },
  {
   "cell_type": "code",
   "execution_count": 23,
   "metadata": {
    "colab": {
     "base_uri": "https://localhost:8080/",
     "height": 270
    },
    "executionInfo": {
     "elapsed": 32,
     "status": "ok",
     "timestamp": 1656400370030,
     "user": {
      "displayName": "Ardiyanto Halim",
      "userId": "08691256053057312155"
     },
     "user_tz": -420
    },
    "id": "tbWhC2o17dz6",
    "outputId": "965d5204-590a-4c6f-d998-ef5d9c33f926"
   },
   "outputs": [
    {
     "data": {
      "text/html": [
       "<div>\n",
       "<style scoped>\n",
       "    .dataframe tbody tr th:only-of-type {\n",
       "        vertical-align: middle;\n",
       "    }\n",
       "\n",
       "    .dataframe tbody tr th {\n",
       "        vertical-align: top;\n",
       "    }\n",
       "\n",
       "    .dataframe thead th {\n",
       "        text-align: right;\n",
       "    }\n",
       "</style>\n",
       "<table border=\"1\" class=\"dataframe\">\n",
       "  <thead>\n",
       "    <tr style=\"text-align: right;\">\n",
       "      <th></th>\n",
       "      <th>age</th>\n",
       "      <th>gender</th>\n",
       "      <th>polyuria</th>\n",
       "      <th>polydipsia</th>\n",
       "      <th>sudden_weight_loss</th>\n",
       "      <th>weakness</th>\n",
       "      <th>polyphagia</th>\n",
       "      <th>genital_thrush</th>\n",
       "      <th>visual_blurring</th>\n",
       "      <th>itching</th>\n",
       "      <th>irritability</th>\n",
       "      <th>delayed_healing</th>\n",
       "      <th>partial_paresis</th>\n",
       "      <th>muscle_stiffness</th>\n",
       "      <th>alopecia</th>\n",
       "      <th>obesity</th>\n",
       "      <th>class</th>\n",
       "    </tr>\n",
       "  </thead>\n",
       "  <tbody>\n",
       "    <tr>\n",
       "      <th>0</th>\n",
       "      <td>40</td>\n",
       "      <td>Male</td>\n",
       "      <td>0</td>\n",
       "      <td>1</td>\n",
       "      <td>0</td>\n",
       "      <td>1</td>\n",
       "      <td>0</td>\n",
       "      <td>0</td>\n",
       "      <td>0</td>\n",
       "      <td>1</td>\n",
       "      <td>0</td>\n",
       "      <td>1</td>\n",
       "      <td>0</td>\n",
       "      <td>1</td>\n",
       "      <td>1</td>\n",
       "      <td>1</td>\n",
       "      <td>1</td>\n",
       "    </tr>\n",
       "    <tr>\n",
       "      <th>1</th>\n",
       "      <td>58</td>\n",
       "      <td>Male</td>\n",
       "      <td>0</td>\n",
       "      <td>0</td>\n",
       "      <td>0</td>\n",
       "      <td>1</td>\n",
       "      <td>0</td>\n",
       "      <td>0</td>\n",
       "      <td>1</td>\n",
       "      <td>0</td>\n",
       "      <td>0</td>\n",
       "      <td>0</td>\n",
       "      <td>1</td>\n",
       "      <td>0</td>\n",
       "      <td>1</td>\n",
       "      <td>0</td>\n",
       "      <td>1</td>\n",
       "    </tr>\n",
       "    <tr>\n",
       "      <th>2</th>\n",
       "      <td>41</td>\n",
       "      <td>Male</td>\n",
       "      <td>1</td>\n",
       "      <td>0</td>\n",
       "      <td>0</td>\n",
       "      <td>1</td>\n",
       "      <td>1</td>\n",
       "      <td>0</td>\n",
       "      <td>0</td>\n",
       "      <td>1</td>\n",
       "      <td>0</td>\n",
       "      <td>1</td>\n",
       "      <td>0</td>\n",
       "      <td>1</td>\n",
       "      <td>1</td>\n",
       "      <td>0</td>\n",
       "      <td>1</td>\n",
       "    </tr>\n",
       "    <tr>\n",
       "      <th>3</th>\n",
       "      <td>45</td>\n",
       "      <td>Male</td>\n",
       "      <td>0</td>\n",
       "      <td>0</td>\n",
       "      <td>1</td>\n",
       "      <td>1</td>\n",
       "      <td>1</td>\n",
       "      <td>1</td>\n",
       "      <td>0</td>\n",
       "      <td>1</td>\n",
       "      <td>0</td>\n",
       "      <td>1</td>\n",
       "      <td>0</td>\n",
       "      <td>0</td>\n",
       "      <td>0</td>\n",
       "      <td>0</td>\n",
       "      <td>1</td>\n",
       "    </tr>\n",
       "    <tr>\n",
       "      <th>4</th>\n",
       "      <td>60</td>\n",
       "      <td>Male</td>\n",
       "      <td>1</td>\n",
       "      <td>1</td>\n",
       "      <td>1</td>\n",
       "      <td>1</td>\n",
       "      <td>1</td>\n",
       "      <td>0</td>\n",
       "      <td>1</td>\n",
       "      <td>1</td>\n",
       "      <td>1</td>\n",
       "      <td>1</td>\n",
       "      <td>1</td>\n",
       "      <td>1</td>\n",
       "      <td>1</td>\n",
       "      <td>1</td>\n",
       "      <td>1</td>\n",
       "    </tr>\n",
       "  </tbody>\n",
       "</table>\n",
       "</div>"
      ],
      "text/plain": [
       "   age gender  polyuria  polydipsia  sudden_weight_loss  weakness  polyphagia  \\\n",
       "0   40   Male         0           1                   0         1           0   \n",
       "1   58   Male         0           0                   0         1           0   \n",
       "2   41   Male         1           0                   0         1           1   \n",
       "3   45   Male         0           0                   1         1           1   \n",
       "4   60   Male         1           1                   1         1           1   \n",
       "\n",
       "   genital_thrush  visual_blurring  itching  irritability  delayed_healing  \\\n",
       "0               0                0        1             0                1   \n",
       "1               0                1        0             0                0   \n",
       "2               0                0        1             0                1   \n",
       "3               1                0        1             0                1   \n",
       "4               0                1        1             1                1   \n",
       "\n",
       "   partial_paresis  muscle_stiffness  alopecia  obesity  class  \n",
       "0                0                 1         1        1      1  \n",
       "1                1                 0         1        0      1  \n",
       "2                0                 1         1        0      1  \n",
       "3                0                 0         0        0      1  \n",
       "4                1                 1         1        1      1  "
      ]
     },
     "execution_count": 23,
     "metadata": {},
     "output_type": "execute_result"
    }
   ],
   "source": [
    "data = pd.read_csv('diabetes_data.csv', delimiter=';')\n",
    "data.head()"
   ]
  },
  {
   "cell_type": "markdown",
   "metadata": {
    "id": "n6BdpnrN7YGY"
   },
   "source": [
    "Pada dataset ini ditemukan 16 variabel dengan \"class\" sebagai apakah seseorang memiliki indikasi diabetes atau tidak. berikut variabel yang digunakan:\n",
    "- age (Umur)\n",
    "- gender (Jenis kelamin)\n",
    "- polyuria (Buang air kecil secara berlebihan atau tidak)\n",
    "- polydipsia (Haus secara berlebihan atau tidak)\n",
    "- sudden_weight_loss (Kehilangan berat badan secara drastis)\n",
    "- weakness (Kondisi tubuh terasa lemah atau tidak)\n",
    "- polyphagia (Indikasi lapar secara berlebihan/ekstrim atau tidak)\n",
    "- genital_thrush (Mengalami infeksi jamur pada kelamin)\n",
    "- visual_blurring (Mengalami Pandangan Buram atau tidak)\n",
    "- itching (Mengalami gatal-gatal)\n",
    "- irritability (Sulit untuk mengontrol rasa marah)\n",
    "- delayed_healing (Terdapat Indikasi luka yang susah untuk sembuh)\n",
    "- partial_paresis (Mengalami otot yang lemas dibeberapa bagiam)\n",
    "- muscle_stiffness (Ada atau tidaknya indikasi otot kaku)\n",
    "- alopecia (Mengalami kerontokan rambut)\n",
    "- obesity (Tergolong obesitas atau tidak, sesuai dengan BMI)\n",
    "- class (mengalami diabetes atau tidak)"
   ]
  },
  {
   "cell_type": "markdown",
   "metadata": {
    "id": "J2-X4iOeb1OD"
   },
   "source": [
    "## Data Analysis"
   ]
  },
  {
   "cell_type": "code",
   "execution_count": 24,
   "metadata": {
    "colab": {
     "base_uri": "https://localhost:8080/"
    },
    "executionInfo": {
     "elapsed": 31,
     "status": "ok",
     "timestamp": 1656400370033,
     "user": {
      "displayName": "Ardiyanto Halim",
      "userId": "08691256053057312155"
     },
     "user_tz": -420
    },
    "id": "t2c7DFPs_Nuz",
    "outputId": "f5a4a11e-d78e-41fc-9ce5-0fb5d0b65c95"
   },
   "outputs": [
    {
     "name": "stdout",
     "output_type": "stream",
     "text": [
      "<class 'pandas.core.frame.DataFrame'>\n",
      "RangeIndex: 520 entries, 0 to 519\n",
      "Data columns (total 17 columns):\n",
      " #   Column              Non-Null Count  Dtype \n",
      "---  ------              --------------  ----- \n",
      " 0   age                 520 non-null    int64 \n",
      " 1   gender              520 non-null    object\n",
      " 2   polyuria            520 non-null    int64 \n",
      " 3   polydipsia          520 non-null    int64 \n",
      " 4   sudden_weight_loss  520 non-null    int64 \n",
      " 5   weakness            520 non-null    int64 \n",
      " 6   polyphagia          520 non-null    int64 \n",
      " 7   genital_thrush      520 non-null    int64 \n",
      " 8   visual_blurring     520 non-null    int64 \n",
      " 9   itching             520 non-null    int64 \n",
      " 10  irritability        520 non-null    int64 \n",
      " 11  delayed_healing     520 non-null    int64 \n",
      " 12  partial_paresis     520 non-null    int64 \n",
      " 13  muscle_stiffness    520 non-null    int64 \n",
      " 14  alopecia            520 non-null    int64 \n",
      " 15  obesity             520 non-null    int64 \n",
      " 16  class               520 non-null    int64 \n",
      "dtypes: int64(16), object(1)\n",
      "memory usage: 69.2+ KB\n"
     ]
    }
   ],
   "source": [
    "data.info()"
   ]
  },
  {
   "cell_type": "markdown",
   "metadata": {
    "id": "1nWCRBHs_hHz"
   },
   "source": [
    "Semua variabel merupakan numerik kecuali pada jenis kelamin (gender) yang merupakan kategorikal"
   ]
  },
  {
   "cell_type": "code",
   "execution_count": 25,
   "metadata": {
    "colab": {
     "base_uri": "https://localhost:8080/",
     "height": 364
    },
    "executionInfo": {
     "elapsed": 34,
     "status": "ok",
     "timestamp": 1656400370041,
     "user": {
      "displayName": "Ardiyanto Halim",
      "userId": "08691256053057312155"
     },
     "user_tz": -420
    },
    "id": "wAOf9hMGnGj4",
    "outputId": "1404bf9b-83c3-497c-a815-a69a15876d44"
   },
   "outputs": [
    {
     "data": {
      "text/html": [
       "<div>\n",
       "<style scoped>\n",
       "    .dataframe tbody tr th:only-of-type {\n",
       "        vertical-align: middle;\n",
       "    }\n",
       "\n",
       "    .dataframe tbody tr th {\n",
       "        vertical-align: top;\n",
       "    }\n",
       "\n",
       "    .dataframe thead th {\n",
       "        text-align: right;\n",
       "    }\n",
       "</style>\n",
       "<table border=\"1\" class=\"dataframe\">\n",
       "  <thead>\n",
       "    <tr style=\"text-align: right;\">\n",
       "      <th></th>\n",
       "      <th>age</th>\n",
       "      <th>polyuria</th>\n",
       "      <th>polydipsia</th>\n",
       "      <th>sudden_weight_loss</th>\n",
       "      <th>weakness</th>\n",
       "      <th>polyphagia</th>\n",
       "      <th>genital_thrush</th>\n",
       "      <th>visual_blurring</th>\n",
       "      <th>itching</th>\n",
       "      <th>irritability</th>\n",
       "      <th>delayed_healing</th>\n",
       "      <th>partial_paresis</th>\n",
       "      <th>muscle_stiffness</th>\n",
       "      <th>alopecia</th>\n",
       "      <th>obesity</th>\n",
       "      <th>class</th>\n",
       "    </tr>\n",
       "  </thead>\n",
       "  <tbody>\n",
       "    <tr>\n",
       "      <th>count</th>\n",
       "      <td>520.000000</td>\n",
       "      <td>520.000000</td>\n",
       "      <td>520.000000</td>\n",
       "      <td>520.000000</td>\n",
       "      <td>520.000000</td>\n",
       "      <td>520.000000</td>\n",
       "      <td>520.000000</td>\n",
       "      <td>520.000000</td>\n",
       "      <td>520.000000</td>\n",
       "      <td>520.000000</td>\n",
       "      <td>520.000000</td>\n",
       "      <td>520.000000</td>\n",
       "      <td>520.000000</td>\n",
       "      <td>520.000000</td>\n",
       "      <td>520.000000</td>\n",
       "      <td>520.000000</td>\n",
       "    </tr>\n",
       "    <tr>\n",
       "      <th>mean</th>\n",
       "      <td>48.028846</td>\n",
       "      <td>0.496154</td>\n",
       "      <td>0.448077</td>\n",
       "      <td>0.417308</td>\n",
       "      <td>0.586538</td>\n",
       "      <td>0.455769</td>\n",
       "      <td>0.223077</td>\n",
       "      <td>0.448077</td>\n",
       "      <td>0.486538</td>\n",
       "      <td>0.242308</td>\n",
       "      <td>0.459615</td>\n",
       "      <td>0.430769</td>\n",
       "      <td>0.375000</td>\n",
       "      <td>0.344231</td>\n",
       "      <td>0.169231</td>\n",
       "      <td>0.615385</td>\n",
       "    </tr>\n",
       "    <tr>\n",
       "      <th>std</th>\n",
       "      <td>12.151466</td>\n",
       "      <td>0.500467</td>\n",
       "      <td>0.497776</td>\n",
       "      <td>0.493589</td>\n",
       "      <td>0.492928</td>\n",
       "      <td>0.498519</td>\n",
       "      <td>0.416710</td>\n",
       "      <td>0.497776</td>\n",
       "      <td>0.500300</td>\n",
       "      <td>0.428892</td>\n",
       "      <td>0.498846</td>\n",
       "      <td>0.495661</td>\n",
       "      <td>0.484589</td>\n",
       "      <td>0.475574</td>\n",
       "      <td>0.375317</td>\n",
       "      <td>0.486973</td>\n",
       "    </tr>\n",
       "    <tr>\n",
       "      <th>min</th>\n",
       "      <td>16.000000</td>\n",
       "      <td>0.000000</td>\n",
       "      <td>0.000000</td>\n",
       "      <td>0.000000</td>\n",
       "      <td>0.000000</td>\n",
       "      <td>0.000000</td>\n",
       "      <td>0.000000</td>\n",
       "      <td>0.000000</td>\n",
       "      <td>0.000000</td>\n",
       "      <td>0.000000</td>\n",
       "      <td>0.000000</td>\n",
       "      <td>0.000000</td>\n",
       "      <td>0.000000</td>\n",
       "      <td>0.000000</td>\n",
       "      <td>0.000000</td>\n",
       "      <td>0.000000</td>\n",
       "    </tr>\n",
       "    <tr>\n",
       "      <th>25%</th>\n",
       "      <td>39.000000</td>\n",
       "      <td>0.000000</td>\n",
       "      <td>0.000000</td>\n",
       "      <td>0.000000</td>\n",
       "      <td>0.000000</td>\n",
       "      <td>0.000000</td>\n",
       "      <td>0.000000</td>\n",
       "      <td>0.000000</td>\n",
       "      <td>0.000000</td>\n",
       "      <td>0.000000</td>\n",
       "      <td>0.000000</td>\n",
       "      <td>0.000000</td>\n",
       "      <td>0.000000</td>\n",
       "      <td>0.000000</td>\n",
       "      <td>0.000000</td>\n",
       "      <td>0.000000</td>\n",
       "    </tr>\n",
       "    <tr>\n",
       "      <th>50%</th>\n",
       "      <td>47.500000</td>\n",
       "      <td>0.000000</td>\n",
       "      <td>0.000000</td>\n",
       "      <td>0.000000</td>\n",
       "      <td>1.000000</td>\n",
       "      <td>0.000000</td>\n",
       "      <td>0.000000</td>\n",
       "      <td>0.000000</td>\n",
       "      <td>0.000000</td>\n",
       "      <td>0.000000</td>\n",
       "      <td>0.000000</td>\n",
       "      <td>0.000000</td>\n",
       "      <td>0.000000</td>\n",
       "      <td>0.000000</td>\n",
       "      <td>0.000000</td>\n",
       "      <td>1.000000</td>\n",
       "    </tr>\n",
       "    <tr>\n",
       "      <th>75%</th>\n",
       "      <td>57.000000</td>\n",
       "      <td>1.000000</td>\n",
       "      <td>1.000000</td>\n",
       "      <td>1.000000</td>\n",
       "      <td>1.000000</td>\n",
       "      <td>1.000000</td>\n",
       "      <td>0.000000</td>\n",
       "      <td>1.000000</td>\n",
       "      <td>1.000000</td>\n",
       "      <td>0.000000</td>\n",
       "      <td>1.000000</td>\n",
       "      <td>1.000000</td>\n",
       "      <td>1.000000</td>\n",
       "      <td>1.000000</td>\n",
       "      <td>0.000000</td>\n",
       "      <td>1.000000</td>\n",
       "    </tr>\n",
       "    <tr>\n",
       "      <th>max</th>\n",
       "      <td>90.000000</td>\n",
       "      <td>1.000000</td>\n",
       "      <td>1.000000</td>\n",
       "      <td>1.000000</td>\n",
       "      <td>1.000000</td>\n",
       "      <td>1.000000</td>\n",
       "      <td>1.000000</td>\n",
       "      <td>1.000000</td>\n",
       "      <td>1.000000</td>\n",
       "      <td>1.000000</td>\n",
       "      <td>1.000000</td>\n",
       "      <td>1.000000</td>\n",
       "      <td>1.000000</td>\n",
       "      <td>1.000000</td>\n",
       "      <td>1.000000</td>\n",
       "      <td>1.000000</td>\n",
       "    </tr>\n",
       "  </tbody>\n",
       "</table>\n",
       "</div>"
      ],
      "text/plain": [
       "              age    polyuria  polydipsia  sudden_weight_loss    weakness  \\\n",
       "count  520.000000  520.000000  520.000000          520.000000  520.000000   \n",
       "mean    48.028846    0.496154    0.448077            0.417308    0.586538   \n",
       "std     12.151466    0.500467    0.497776            0.493589    0.492928   \n",
       "min     16.000000    0.000000    0.000000            0.000000    0.000000   \n",
       "25%     39.000000    0.000000    0.000000            0.000000    0.000000   \n",
       "50%     47.500000    0.000000    0.000000            0.000000    1.000000   \n",
       "75%     57.000000    1.000000    1.000000            1.000000    1.000000   \n",
       "max     90.000000    1.000000    1.000000            1.000000    1.000000   \n",
       "\n",
       "       polyphagia  genital_thrush  visual_blurring     itching  irritability  \\\n",
       "count  520.000000      520.000000       520.000000  520.000000    520.000000   \n",
       "mean     0.455769        0.223077         0.448077    0.486538      0.242308   \n",
       "std      0.498519        0.416710         0.497776    0.500300      0.428892   \n",
       "min      0.000000        0.000000         0.000000    0.000000      0.000000   \n",
       "25%      0.000000        0.000000         0.000000    0.000000      0.000000   \n",
       "50%      0.000000        0.000000         0.000000    0.000000      0.000000   \n",
       "75%      1.000000        0.000000         1.000000    1.000000      0.000000   \n",
       "max      1.000000        1.000000         1.000000    1.000000      1.000000   \n",
       "\n",
       "       delayed_healing  partial_paresis  muscle_stiffness    alopecia  \\\n",
       "count       520.000000       520.000000        520.000000  520.000000   \n",
       "mean          0.459615         0.430769          0.375000    0.344231   \n",
       "std           0.498846         0.495661          0.484589    0.475574   \n",
       "min           0.000000         0.000000          0.000000    0.000000   \n",
       "25%           0.000000         0.000000          0.000000    0.000000   \n",
       "50%           0.000000         0.000000          0.000000    0.000000   \n",
       "75%           1.000000         1.000000          1.000000    1.000000   \n",
       "max           1.000000         1.000000          1.000000    1.000000   \n",
       "\n",
       "          obesity       class  \n",
       "count  520.000000  520.000000  \n",
       "mean     0.169231    0.615385  \n",
       "std      0.375317    0.486973  \n",
       "min      0.000000    0.000000  \n",
       "25%      0.000000    0.000000  \n",
       "50%      0.000000    1.000000  \n",
       "75%      0.000000    1.000000  \n",
       "max      1.000000    1.000000  "
      ]
     },
     "execution_count": 25,
     "metadata": {},
     "output_type": "execute_result"
    }
   ],
   "source": [
    "data.describe()"
   ]
  },
  {
   "cell_type": "markdown",
   "metadata": {
    "id": "4l7N_4hSAZyP"
   },
   "source": [
    "Dikarenakan data yang digunakan cukup bersih, maka tidak perlu memproses nilai yang hilang dan outliers."
   ]
  },
  {
   "cell_type": "code",
   "execution_count": 26,
   "metadata": {
    "colab": {
     "base_uri": "https://localhost:8080/",
     "height": 611
    },
    "executionInfo": {
     "elapsed": 3677,
     "status": "ok",
     "timestamp": 1656400373686,
     "user": {
      "displayName": "Ardiyanto Halim",
      "userId": "08691256053057312155"
     },
     "user_tz": -420
    },
    "id": "el5x8ruwDSMT",
    "outputId": "faa6a250-eecb-4639-af2d-d9b690b855e6"
   },
   "outputs": [
    {
     "data": {
      "text/plain": [
       "Text(0.5, 1.0, 'Correlation Matrix')"
      ]
     },
     "execution_count": 26,
     "metadata": {},
     "output_type": "execute_result"
    },
    {
     "data": {
      "image/png": "[encoded data removed]",
      "text/plain": [
       "<Figure size 1000x800 with 2 Axes>"
      ]
     },
     "metadata": {},
     "output_type": "display_data"
    }
   ],
   "source": [
    "plt.figure(figsize=(10, 8))\n",
    "correlation_matrix = data.corr().round(2)\n",
    "sns.heatmap(data=correlation_matrix, annot=True, cmap='coolwarm', linewidths=0.5, )\n",
    "plt.title(\"Correlation Matrix\", size=20)"
   ]
  },
  {
   "cell_type": "markdown",
   "metadata": {
    "id": "-yZ4bROeFAqC"
   },
   "source": [
    "Seperti yang dapat kita liat, di baris terakhir, variabel 'itching' memiliki korelasi yang rendah terhadap 'class' dengan nilai -0.01 diikuti oleh 'delayed_healing' dengan 0.05 dan 'obesity' 0.07.\n",
    "\n",
    "Dan korelasi yang paling tinggi adalah 'polyuria' dan 'polydipsia' dengan nilai 0.67 dan 0.65."
   ]
  },
  {
   "cell_type": "code",
   "execution_count": 27,
   "metadata": {
    "colab": {
     "base_uri": "https://localhost:8080/",
     "height": 445
    },
    "executionInfo": {
     "elapsed": 886,
     "status": "ok",
     "timestamp": 1656400374542,
     "user": {
      "displayName": "Ardiyanto Halim",
      "userId": "08691256053057312155"
     },
     "user_tz": -420
    },
    "id": "_XdulCIZCjoJ",
    "outputId": "7a29bd45-6e54-4cdb-8c70-fc901a5cf3f0"
   },
   "outputs": [
    {
     "name": "stdout",
     "output_type": "stream",
     "text": [
      "        Sample  Gender percentage  Positive Diabetes  Diabetes Percentage\n",
      "Male       328               63.1                147                 44.8\n",
      "Female     192               36.9                173                 90.1\n"
     ]
    },
    {
     "data": {
      "image/png": "[encoded data removed]",
      "text/plain": [
       "<Figure size 800x600 with 1 Axes>"
      ]
     },
     "metadata": {},
     "output_type": "display_data"
    }
   ],
   "source": [
    "#count number of male/female\n",
    "gen_count = data['gender'].value_counts() \n",
    "#count number of diabetic male/female\n",
    "male_diabet = 0\n",
    "female_diabet = 0\n",
    "for i in range(len(data)):\n",
    "  if data['gender'][i] == 'Male' and data['class'][i] == 1:\n",
    "    male_diabet += 1\n",
    "  elif data['gender'][i] == 'Female' and data['class'][i] == 1:\n",
    "    female_diabet += 1\n",
    "diabet_count = [male_diabet, female_diabet]\n",
    "percent = 100*data['gender'].value_counts(normalize=True)\n",
    "diabet_percent = [(100*male_diabet/gen_count[0]).round(1), \n",
    "                  (100*female_diabet/gen_count[1]).round(1)]\n",
    "# Print Summary in Dataframe\n",
    "df = pd.DataFrame({'Sample':gen_count, 'Gender percentage':percent.round(1), \n",
    "                   'Positive Diabetes':diabet_count, \n",
    "                   'Diabetes Percentage':diabet_percent})\n",
    "print(df)\n",
    "\n",
    "#Build the plot\n",
    "barWidth = 0.4\n",
    "fig = plt.subplots(figsize =(8, 6))\n",
    "\n",
    "br1 = np.arange(len(gen_count))\n",
    "br2 = [x + barWidth for x in br1]\n",
    " \n",
    "plt.bar(br1, gen_count, color ='b', width = barWidth,\n",
    "        edgecolor ='grey', label ='Gender')\n",
    "plt.bar(br2, diabet_count, color ='r', width = barWidth,\n",
    "        edgecolor ='grey', label ='Positive Diabetes')\n",
    " \n",
    "plt.xlabel('Gender vs Presence of Diabet', fontweight ='bold', fontsize = 15)\n",
    "plt.ylabel('Number of People', fontweight ='bold', fontsize = 15)\n",
    "plt.xticks([r + barWidth/2 for r in range(len(gen_count))], ['Male', 'Female'])\n",
    "plt.legend()\n",
    "plt.show()"
   ]
  },
  {
   "cell_type": "markdown",
   "metadata": {
    "id": "OO2W4URcd3gY"
   },
   "source": [
    "Karena hanya memiliki fitur numerik dalam matriks korelasi, saya ingin melihat bagaimana Gender vs Diabetes berjalan secara statistik. kita dapat melihat bahwa dalam dataset, 90,1% wanita menderita diabetes, ini mungkin tidak baik untuk model ini tetapi mari kita lihat bagaimana model ini nanti.\n",
    "\n",
    "Juga, Anda dapat mencobanya dengan fitur yang berbeda seperti di bawah ini, tetapi ini tidak perlu karena kita sudah memiliki semua matriks korelasi untuk fitur numerik di atas"
   ]
  },
  {
   "cell_type": "code",
   "execution_count": 28,
   "metadata": {
    "id": "nE5OrtJw8Es7"
   },
   "outputs": [],
   "source": [
    "binary_feature = ['polyuria', 'polydipsia', 'sudden_weight_loss',\n",
    "                  'weakness', 'polyphagia', 'genital_thrush', 'visual_blurring',\n",
    "                  'itching', 'irritability', 'delayed_healing', \n",
    "                  'partial_paresis', 'muscle_stiffness', 'alopecia', 'obesity']\n",
    "count = []\n",
    "for feature in binary_feature:\n",
    "  count.append(data[feature].value_counts()[1])\n",
    "\n",
    "dic = {}\n",
    "for feature in binary_feature:\n",
    "  dic[\"{}_diabet\".format(feature)] = 0\n",
    "\n",
    "for i in range(len(data)):\n",
    "  for feature in binary_feature:\n",
    "    if data[feature][i] == 1 and data['class'][i] == 1:\n",
    "      dic['{}_diabet'.format(feature)] += 1\n",
    "\n",
    "diabet_count=[]\n",
    "for feature in binary_feature:\n",
    "  diabet_count.append(dic['{}_diabet'.format(feature)])\n",
    "non_diabet_count=[]\n",
    "for i in range(len(binary_feature)):\n",
    "  non_diabet_count.append(count[i]-diabet_count[i])"
   ]
  },
  {
   "cell_type": "code",
   "execution_count": 29,
   "metadata": {
    "colab": {
     "base_uri": "https://localhost:8080/",
     "height": 871
    },
    "executionInfo": {
     "elapsed": 47,
     "status": "ok",
     "timestamp": 1656400374547,
     "user": {
      "displayName": "Ardiyanto Halim",
      "userId": "08691256053057312155"
     },
     "user_tz": -420
    },
    "id": "oE9mFnGZ-P7a",
    "outputId": "ceec0b4e-1767-4039-9f01-606149d4d1b3"
   },
   "outputs": [
    {
     "name": "stdout",
     "output_type": "stream",
     "text": [
      "                    Positive  Percentage  Diabetes  D_Percent\n",
      "polyuria                 258        49.6       243       94.2\n",
      "polydipsia               233        44.8       225       96.6\n",
      "sudden_weight_loss       217        41.7       188       86.6\n",
      "weakness                 305        58.7       218       71.5\n",
      "polyphagia               237        45.6       189       79.7\n",
      "genital_thrush           116        22.3        83       71.6\n",
      "visual_blurring          233        44.8       175       75.1\n",
      "itching                  253        48.7       154       60.9\n",
      "irritability             126        24.2       110       87.3\n",
      "delayed_healing          239        46.0       153       64.0\n",
      "partial_paresis          224        43.1       192       85.7\n",
      "muscle_stiffness         195        37.5       135       69.2\n",
      "alopecia                 179        34.4        78       43.6\n",
      "obesity                   88        16.9        61       69.3\n"
     ]
    },
    {
     "data": {
      "image/png": "[encoded data removed]",
      "text/plain": [
       "<Figure size 2000x1000 with 1 Axes>"
      ]
     },
     "metadata": {},
     "output_type": "display_data"
    }
   ],
   "source": [
    "percent = []\n",
    "diabet_percent = []\n",
    "for i in range(len(count)):\n",
    "  percent.append((100*count[i]/len(data)).round(1))\n",
    "  diabet_percent.append((100*diabet_count[i]/count[i]).round(1))\n",
    "  \n",
    "# Print Summary in Dataframe\n",
    "df = pd.DataFrame({'Positive':count, 'Percentage':percent, \n",
    "                   'Diabetes':diabet_count, \n",
    "                   'D_Percent':diabet_percent}, \n",
    "                  index=binary_feature)\n",
    "print(df)\n",
    "\n",
    "#Build the plot\n",
    "barWidth = 0.2\n",
    "fig = plt.subplots(figsize =(20, 10))\n",
    "\n",
    "br1 = np.arange(len(count))\n",
    "br2 = [x + barWidth for x in br1]\n",
    "br3 = [x + barWidth for x in br2]\n",
    " \n",
    "plt.bar(br1, count, color ='b', width = barWidth,\n",
    "        edgecolor ='grey', label ='Positive Symptomps')\n",
    "plt.bar(br2, diabet_count, color ='r', width = barWidth,\n",
    "        edgecolor ='grey', label ='With Diabete')\n",
    "plt.bar(br3, non_diabet_count, color ='g', width = barWidth,\n",
    "        edgecolor ='grey', label ='No Diabete')\n",
    " \n",
    "plt.xlabel('Symptomps', fontweight ='bold', fontsize = 15)\n",
    "plt.ylabel('Number of People', fontweight ='bold', fontsize = 15)\n",
    "plt.xticks([r + barWidth for r in range(len(count))], \n",
    "           binary_feature)\n",
    "plt.legend()\n",
    "plt.show()"
   ]
  },
  {
   "cell_type": "markdown",
   "metadata": {
    "id": "tnlq5rNcl7Eq"
   },
   "source": [
    "Seperti yang kita lihat di sini, kita mendapatkan bahwa sekitar 95% pasien di dataset positif Poliuria atau Polidipsia menderita diabetes, jadi, mereka mungkin memiliki korelasi seperti yang kita lihat pada matriks korelasi. Dan di bawah 65% pasien yang menderita Alopecia, Gatal dan Tertunda Penyembuhan memiliki diabetes."
   ]
  },
  {
   "cell_type": "markdown",
   "metadata": {
    "id": "5YAmBOkCLOiQ"
   },
   "source": [
    "## Data Preparation"
   ]
  },
  {
   "cell_type": "markdown",
   "metadata": {
    "id": "kptC1Wx5VPSV"
   },
   "source": [
    "### One Hot Encoding\n",
    "Dikarenakan variabel gender adalah kategorikal, maka perlu dilakukan encoding."
   ]
  },
  {
   "cell_type": "code",
   "execution_count": 30,
   "metadata": {
    "colab": {
     "base_uri": "https://localhost:8080/",
     "height": 270
    },
    "executionInfo": {
     "elapsed": 39,
     "status": "ok",
     "timestamp": 1656400374549,
     "user": {
      "displayName": "Ardiyanto Halim",
      "userId": "08691256053057312155"
     },
     "user_tz": -420
    },
    "id": "pIocx3VrQJ0W",
    "outputId": "07f466e9-ec3c-4e4e-f692-530f63c7ce4a"
   },
   "outputs": [
    {
     "data": {
      "text/html": [
       "<div>\n",
       "<style scoped>\n",
       "    .dataframe tbody tr th:only-of-type {\n",
       "        vertical-align: middle;\n",
       "    }\n",
       "\n",
       "    .dataframe tbody tr th {\n",
       "        vertical-align: top;\n",
       "    }\n",
       "\n",
       "    .dataframe thead th {\n",
       "        text-align: right;\n",
       "    }\n",
       "</style>\n",
       "<table border=\"1\" class=\"dataframe\">\n",
       "  <thead>\n",
       "    <tr style=\"text-align: right;\">\n",
       "      <th></th>\n",
       "      <th>age</th>\n",
       "      <th>polyuria</th>\n",
       "      <th>polydipsia</th>\n",
       "      <th>sudden_weight_loss</th>\n",
       "      <th>weakness</th>\n",
       "      <th>polyphagia</th>\n",
       "      <th>genital_thrush</th>\n",
       "      <th>visual_blurring</th>\n",
       "      <th>itching</th>\n",
       "      <th>irritability</th>\n",
       "      <th>delayed_healing</th>\n",
       "      <th>partial_paresis</th>\n",
       "      <th>muscle_stiffness</th>\n",
       "      <th>alopecia</th>\n",
       "      <th>obesity</th>\n",
       "      <th>class</th>\n",
       "      <th>gender_Female</th>\n",
       "      <th>gender_Male</th>\n",
       "    </tr>\n",
       "  </thead>\n",
       "  <tbody>\n",
       "    <tr>\n",
       "      <th>0</th>\n",
       "      <td>40</td>\n",
       "      <td>0</td>\n",
       "      <td>1</td>\n",
       "      <td>0</td>\n",
       "      <td>1</td>\n",
       "      <td>0</td>\n",
       "      <td>0</td>\n",
       "      <td>0</td>\n",
       "      <td>1</td>\n",
       "      <td>0</td>\n",
       "      <td>1</td>\n",
       "      <td>0</td>\n",
       "      <td>1</td>\n",
       "      <td>1</td>\n",
       "      <td>1</td>\n",
       "      <td>1</td>\n",
       "      <td>0</td>\n",
       "      <td>1</td>\n",
       "    </tr>\n",
       "    <tr>\n",
       "      <th>1</th>\n",
       "      <td>58</td>\n",
       "      <td>0</td>\n",
       "      <td>0</td>\n",
       "      <td>0</td>\n",
       "      <td>1</td>\n",
       "      <td>0</td>\n",
       "      <td>0</td>\n",
       "      <td>1</td>\n",
       "      <td>0</td>\n",
       "      <td>0</td>\n",
       "      <td>0</td>\n",
       "      <td>1</td>\n",
       "      <td>0</td>\n",
       "      <td>1</td>\n",
       "      <td>0</td>\n",
       "      <td>1</td>\n",
       "      <td>0</td>\n",
       "      <td>1</td>\n",
       "    </tr>\n",
       "    <tr>\n",
       "      <th>2</th>\n",
       "      <td>41</td>\n",
       "      <td>1</td>\n",
       "      <td>0</td>\n",
       "      <td>0</td>\n",
       "      <td>1</td>\n",
       "      <td>1</td>\n",
       "      <td>0</td>\n",
       "      <td>0</td>\n",
       "      <td>1</td>\n",
       "      <td>0</td>\n",
       "      <td>1</td>\n",
       "      <td>0</td>\n",
       "      <td>1</td>\n",
       "      <td>1</td>\n",
       "      <td>0</td>\n",
       "      <td>1</td>\n",
       "      <td>0</td>\n",
       "      <td>1</td>\n",
       "    </tr>\n",
       "    <tr>\n",
       "      <th>3</th>\n",
       "      <td>45</td>\n",
       "      <td>0</td>\n",
       "      <td>0</td>\n",
       "      <td>1</td>\n",
       "      <td>1</td>\n",
       "      <td>1</td>\n",
       "      <td>1</td>\n",
       "      <td>0</td>\n",
       "      <td>1</td>\n",
       "      <td>0</td>\n",
       "      <td>1</td>\n",
       "      <td>0</td>\n",
       "      <td>0</td>\n",
       "      <td>0</td>\n",
       "      <td>0</td>\n",
       "      <td>1</td>\n",
       "      <td>0</td>\n",
       "      <td>1</td>\n",
       "    </tr>\n",
       "    <tr>\n",
       "      <th>4</th>\n",
       "      <td>60</td>\n",
       "      <td>1</td>\n",
       "      <td>1</td>\n",
       "      <td>1</td>\n",
       "      <td>1</td>\n",
       "      <td>1</td>\n",
       "      <td>0</td>\n",
       "      <td>1</td>\n",
       "      <td>1</td>\n",
       "      <td>1</td>\n",
       "      <td>1</td>\n",
       "      <td>1</td>\n",
       "      <td>1</td>\n",
       "      <td>1</td>\n",
       "      <td>1</td>\n",
       "      <td>1</td>\n",
       "      <td>0</td>\n",
       "      <td>1</td>\n",
       "    </tr>\n",
       "  </tbody>\n",
       "</table>\n",
       "</div>"
      ],
      "text/plain": [
       "   age  polyuria  polydipsia  sudden_weight_loss  weakness  polyphagia  \\\n",
       "0   40         0           1                   0         1           0   \n",
       "1   58         0           0                   0         1           0   \n",
       "2   41         1           0                   0         1           1   \n",
       "3   45         0           0                   1         1           1   \n",
       "4   60         1           1                   1         1           1   \n",
       "\n",
       "   genital_thrush  visual_blurring  itching  irritability  delayed_healing  \\\n",
       "0               0                0        1             0                1   \n",
       "1               0                1        0             0                0   \n",
       "2               0                0        1             0                1   \n",
       "3               1                0        1             0                1   \n",
       "4               0                1        1             1                1   \n",
       "\n",
       "   partial_paresis  muscle_stiffness  alopecia  obesity  class  gender_Female  \\\n",
       "0                0                 1         1        1      1              0   \n",
       "1                1                 0         1        0      1              0   \n",
       "2                0                 1         1        0      1              0   \n",
       "3                0                 0         0        0      1              0   \n",
       "4                1                 1         1        1      1              0   \n",
       "\n",
       "   gender_Male  \n",
       "0            1  \n",
       "1            1  \n",
       "2            1  \n",
       "3            1  \n",
       "4            1  "
      ]
     },
     "execution_count": 30,
     "metadata": {},
     "output_type": "execute_result"
    }
   ],
   "source": [
    "data = pd.concat([data, pd.get_dummies(data['gender'], prefix='gender')],axis=1)\n",
    "data.drop(['gender'], axis=1, inplace=True)\n",
    "data.head()"
   ]
  },
  {
   "cell_type": "markdown",
   "metadata": {
    "id": "d2YC5pT-Vlji"
   },
   "source": [
    "### Train-Test Split"
   ]
  },
  {
   "cell_type": "markdown",
   "metadata": {
    "id": "GNHF2lUcH1_k"
   },
   "source": [
    "Dataset dipecah menjadi train dan test dengan rasio 80:20. Hal ini juga harus mempertimbangkan ukuran dari dataset kita, jangan sampai test set kurang yang dapat menyebabkan hasil evaluasi tidak terlalu andal atau test set berlebihan yang tidak diperlukan."
   ]
  },
  {
   "cell_type": "code",
   "execution_count": 31,
   "metadata": {
    "colab": {
     "base_uri": "https://localhost:8080/"
    },
    "executionInfo": {
     "elapsed": 38,
     "status": "ok",
     "timestamp": 1656400374550,
     "user": {
      "displayName": "Ardiyanto Halim",
      "userId": "08691256053057312155"
     },
     "user_tz": -420
    },
    "id": "Q3aexAN0VoP7",
    "outputId": "c5d7ff6f-6377-48f8-d711-31e1b8da7b5c"
   },
   "outputs": [
    {
     "name": "stdout",
     "output_type": "stream",
     "text": [
      "Total # of sample in whole dataset: 520\n",
      "Total # of sample in train dataset: 416\n",
      "Total # of sample in test dataset: 104\n"
     ]
    }
   ],
   "source": [
    "X = data.drop([\"class\"],axis =1)\n",
    "y = data[\"class\"]\n",
    "X_train, X_test, y_train, y_test = train_test_split(X, y, test_size = 0.2, random_state = 123)\n",
    "\n",
    "print(f'Total # of sample in whole dataset: {len(X)}')\n",
    "print(f'Total # of sample in train dataset: {len(X_train)}')\n",
    "print(f'Total # of sample in test dataset: {len(X_test)}')"
   ]
  },
  {
   "cell_type": "markdown",
   "metadata": {
    "id": "AWFrzC8QV67V"
   },
   "source": [
    "### Standarisation"
   ]
  },
  {
   "cell_type": "markdown",
   "metadata": {
    "id": "uVmRqWEpIF7n"
   },
   "source": [
    "Untuk variabel 'age' kita perlu melakukan standarisasi hingga nilai rata-rata sama dengan 0 dan standar deviasi sama dengan 1."
   ]
  },
  {
   "cell_type": "code",
   "execution_count": 32,
   "metadata": {},
   "outputs": [
    {
     "data": {
      "text/html": [
       "<div>\n",
       "<style scoped>\n",
       "    .dataframe tbody tr th:only-of-type {\n",
       "        vertical-align: middle;\n",
       "    }\n",
       "\n",
       "    .dataframe tbody tr th {\n",
       "        vertical-align: top;\n",
       "    }\n",
       "\n",
       "    .dataframe thead th {\n",
       "        text-align: right;\n",
       "    }\n",
       "</style>\n",
       "<table border=\"1\" class=\"dataframe\">\n",
       "  <thead>\n",
       "    <tr style=\"text-align: right;\">\n",
       "      <th></th>\n",
       "      <th>age</th>\n",
       "      <th>polyuria</th>\n",
       "      <th>polydipsia</th>\n",
       "      <th>sudden_weight_loss</th>\n",
       "      <th>weakness</th>\n",
       "      <th>polyphagia</th>\n",
       "      <th>genital_thrush</th>\n",
       "      <th>visual_blurring</th>\n",
       "      <th>itching</th>\n",
       "      <th>irritability</th>\n",
       "      <th>delayed_healing</th>\n",
       "      <th>partial_paresis</th>\n",
       "      <th>muscle_stiffness</th>\n",
       "      <th>alopecia</th>\n",
       "      <th>obesity</th>\n",
       "      <th>gender_Female</th>\n",
       "      <th>gender_Male</th>\n",
       "    </tr>\n",
       "  </thead>\n",
       "  <tbody>\n",
       "    <tr>\n",
       "      <th>42</th>\n",
       "      <td>50</td>\n",
       "      <td>0</td>\n",
       "      <td>1</td>\n",
       "      <td>0</td>\n",
       "      <td>1</td>\n",
       "      <td>1</td>\n",
       "      <td>0</td>\n",
       "      <td>1</td>\n",
       "      <td>1</td>\n",
       "      <td>1</td>\n",
       "      <td>1</td>\n",
       "      <td>1</td>\n",
       "      <td>1</td>\n",
       "      <td>0</td>\n",
       "      <td>0</td>\n",
       "      <td>1</td>\n",
       "      <td>0</td>\n",
       "    </tr>\n",
       "    <tr>\n",
       "      <th>376</th>\n",
       "      <td>43</td>\n",
       "      <td>0</td>\n",
       "      <td>0</td>\n",
       "      <td>0</td>\n",
       "      <td>1</td>\n",
       "      <td>0</td>\n",
       "      <td>1</td>\n",
       "      <td>0</td>\n",
       "      <td>1</td>\n",
       "      <td>0</td>\n",
       "      <td>1</td>\n",
       "      <td>0</td>\n",
       "      <td>0</td>\n",
       "      <td>1</td>\n",
       "      <td>0</td>\n",
       "      <td>0</td>\n",
       "      <td>1</td>\n",
       "    </tr>\n",
       "    <tr>\n",
       "      <th>184</th>\n",
       "      <td>48</td>\n",
       "      <td>1</td>\n",
       "      <td>1</td>\n",
       "      <td>1</td>\n",
       "      <td>0</td>\n",
       "      <td>1</td>\n",
       "      <td>1</td>\n",
       "      <td>0</td>\n",
       "      <td>0</td>\n",
       "      <td>1</td>\n",
       "      <td>1</td>\n",
       "      <td>0</td>\n",
       "      <td>1</td>\n",
       "      <td>1</td>\n",
       "      <td>1</td>\n",
       "      <td>1</td>\n",
       "      <td>0</td>\n",
       "    </tr>\n",
       "    <tr>\n",
       "      <th>41</th>\n",
       "      <td>50</td>\n",
       "      <td>1</td>\n",
       "      <td>1</td>\n",
       "      <td>1</td>\n",
       "      <td>0</td>\n",
       "      <td>1</td>\n",
       "      <td>0</td>\n",
       "      <td>0</td>\n",
       "      <td>0</td>\n",
       "      <td>0</td>\n",
       "      <td>1</td>\n",
       "      <td>1</td>\n",
       "      <td>0</td>\n",
       "      <td>0</td>\n",
       "      <td>0</td>\n",
       "      <td>1</td>\n",
       "      <td>0</td>\n",
       "    </tr>\n",
       "    <tr>\n",
       "      <th>494</th>\n",
       "      <td>36</td>\n",
       "      <td>0</td>\n",
       "      <td>0</td>\n",
       "      <td>0</td>\n",
       "      <td>0</td>\n",
       "      <td>0</td>\n",
       "      <td>0</td>\n",
       "      <td>0</td>\n",
       "      <td>0</td>\n",
       "      <td>0</td>\n",
       "      <td>0</td>\n",
       "      <td>0</td>\n",
       "      <td>0</td>\n",
       "      <td>0</td>\n",
       "      <td>0</td>\n",
       "      <td>0</td>\n",
       "      <td>1</td>\n",
       "    </tr>\n",
       "  </tbody>\n",
       "</table>\n",
       "</div>"
      ],
      "text/plain": [
       "     age  polyuria  polydipsia  sudden_weight_loss  weakness  polyphagia  \\\n",
       "42    50         0           1                   0         1           1   \n",
       "376   43         0           0                   0         1           0   \n",
       "184   48         1           1                   1         0           1   \n",
       "41    50         1           1                   1         0           1   \n",
       "494   36         0           0                   0         0           0   \n",
       "\n",
       "     genital_thrush  visual_blurring  itching  irritability  delayed_healing  \\\n",
       "42                0                1        1             1                1   \n",
       "376               1                0        1             0                1   \n",
       "184               1                0        0             1                1   \n",
       "41                0                0        0             0                1   \n",
       "494               0                0        0             0                0   \n",
       "\n",
       "     partial_paresis  muscle_stiffness  alopecia  obesity  gender_Female  \\\n",
       "42                 1                 1         0        0              1   \n",
       "376                0                 0         1        0              0   \n",
       "184                0                 1         1        1              1   \n",
       "41                 1                 0         0        0              1   \n",
       "494                0                 0         0        0              0   \n",
       "\n",
       "     gender_Male  \n",
       "42             0  \n",
       "376            1  \n",
       "184            0  \n",
       "41             0  \n",
       "494            1  "
      ]
     },
     "execution_count": 32,
     "metadata": {},
     "output_type": "execute_result"
    }
   ],
   "source": [
    "X_train.head()"
   ]
  },
  {
   "cell_type": "code",
   "execution_count": 33,
   "metadata": {
    "colab": {
     "base_uri": "https://localhost:8080/",
     "height": 206
    },
    "executionInfo": {
     "elapsed": 36,
     "status": "ok",
     "timestamp": 1656400374552,
     "user": {
      "displayName": "Ardiyanto Halim",
      "userId": "08691256053057312155"
     },
     "user_tz": -420
    },
    "id": "wDrVEhOMV-yS",
    "outputId": "0cac05a6-bac2-40dc-f5dc-812a08ced024"
   },
   "outputs": [
    {
     "data": {
      "text/html": [
       "<div>\n",
       "<style scoped>\n",
       "    .dataframe tbody tr th:only-of-type {\n",
       "        vertical-align: middle;\n",
       "    }\n",
       "\n",
       "    .dataframe tbody tr th {\n",
       "        vertical-align: top;\n",
       "    }\n",
       "\n",
       "    .dataframe thead th {\n",
       "        text-align: right;\n",
       "    }\n",
       "</style>\n",
       "<table border=\"1\" class=\"dataframe\">\n",
       "  <thead>\n",
       "    <tr style=\"text-align: right;\">\n",
       "      <th></th>\n",
       "      <th>age</th>\n",
       "    </tr>\n",
       "  </thead>\n",
       "  <tbody>\n",
       "    <tr>\n",
       "      <th>42</th>\n",
       "      <td>0.203401</td>\n",
       "    </tr>\n",
       "    <tr>\n",
       "      <th>376</th>\n",
       "      <td>-0.393078</td>\n",
       "    </tr>\n",
       "    <tr>\n",
       "      <th>184</th>\n",
       "      <td>0.032978</td>\n",
       "    </tr>\n",
       "    <tr>\n",
       "      <th>41</th>\n",
       "      <td>0.203401</td>\n",
       "    </tr>\n",
       "    <tr>\n",
       "      <th>494</th>\n",
       "      <td>-0.989557</td>\n",
       "    </tr>\n",
       "  </tbody>\n",
       "</table>\n",
       "</div>"
      ],
      "text/plain": [
       "          age\n",
       "42   0.203401\n",
       "376 -0.393078\n",
       "184  0.032978\n",
       "41   0.203401\n",
       "494 -0.989557"
      ]
     },
     "execution_count": 33,
     "metadata": {},
     "output_type": "execute_result"
    }
   ],
   "source": [
    "numerical_features = ['age']\n",
    "scaler = StandardScaler()\n",
    "scaler.fit(X_train[numerical_features])\n",
    "X_train[numerical_features] = scaler.transform(X_train.loc[:, numerical_features])\n",
    "X_train[numerical_features].head()"
   ]
  },
  {
   "cell_type": "code",
   "execution_count": 39,
   "metadata": {},
   "outputs": [
    {
     "name": "stdout",
     "output_type": "stream",
     "text": [
      "[0.20340095]\n"
     ]
    }
   ],
   "source": [
    "print((50 - scaler.mean_)/scaler.scale_)"
   ]
  },
  {
   "cell_type": "code",
   "execution_count": 40,
   "metadata": {},
   "outputs": [
    {
     "name": "stdout",
     "output_type": "stream",
     "text": [
      "[47.61298077]\n",
      "[11.7355363]\n"
     ]
    }
   ],
   "source": [
    "print(scaler.mean_)\n",
    "print(scaler.scale_)"
   ]
  },
  {
   "cell_type": "markdown",
   "metadata": {},
   "source": [
    "Nilai mean_(rata-rata) dan scale_(standar deviasi) akan digunakan nanti untuk diterapkan ketika deployment menggunakan metode yang sama yaitu standar scaler "
   ]
  },
  {
   "cell_type": "markdown",
   "metadata": {
    "id": "xyqCbyWnXVmv"
   },
   "source": [
    "## Model Development"
   ]
  },
  {
   "cell_type": "markdown",
   "metadata": {
    "id": "IiQ9fLQiIbHm"
   },
   "source": [
    "Setelah selesai mempersiapkan data kita dapat membuat model. Disini dicoba 6 jenis algoritma klasifikasi antara lain KNearestNeighbour, SVC, Decision Tree Classifier, Random Forest Classifier, dan Adaptive Boosting."
   ]
  },
  {
   "cell_type": "code",
   "execution_count": 13,
   "metadata": {
    "id": "ayJO8WTkXVPh"
   },
   "outputs": [],
   "source": [
    "models = pd.DataFrame(index=['train_acc', 'test_acc'], \n",
    "                      columns=['KNN', 'SVC', 'DecisionTree', 'RandomForest', 'Boosting'])"
   ]
  },
  {
   "cell_type": "code",
   "execution_count": 14,
   "metadata": {
    "id": "qcS_ngdPYNSZ"
   },
   "outputs": [],
   "source": [
    "import pickle\n",
    "knn = KNeighborsClassifier(n_neighbors=23)\n",
    "knn.fit(X_train, y_train)\n",
    "filename = 'knn_model.pkl'\n",
    "pickle.dump(knn, open(filename, 'wb'))\n",
    "models.loc['train_acc','knn'] = accuracy_score(y_pred = knn.predict(X_train), y_true=y_train)"
   ]
  },
  {
   "cell_type": "code",
   "execution_count": 15,
   "metadata": {
    "id": "qdOUE1afcozl"
   },
   "outputs": [],
   "source": [
    "svc = SVC(kernel = 'poly' , random_state = 55)\n",
    "svc.fit(X_train, y_train)\n",
    "filename = 'svc_model.pkl'\n",
    "pickle.dump(svc, open(filename, 'wb'))\n",
    "models.loc['train_acc','SVC'] = accuracy_score(y_pred = svc.predict(X_train), y_true=y_train)"
   ]
  },
  {
   "cell_type": "code",
   "execution_count": 16,
   "metadata": {
    "id": "orziF8ozdoyk"
   },
   "outputs": [],
   "source": [
    "DT = DecisionTreeClassifier(criterion = 'entropy' ,random_state=55)\n",
    "DT.fit(X_train, y_train)\n",
    "filename = 'dt_model.pkl'\n",
    "pickle.dump(DT, open(filename, 'wb'))\n",
    "models.loc['train_acc','DecisionTree'] = accuracy_score(y_pred = DT.predict(X_train), y_true=y_train)"
   ]
  },
  {
   "cell_type": "code",
   "execution_count": 17,
   "metadata": {
    "id": "C19a7CawYUS2"
   },
   "outputs": [],
   "source": [
    "RF = RandomForestClassifier(n_estimators=150, max_depth=16, random_state=55, n_jobs=-1)\n",
    "RF.fit(X_train, y_train)\n",
    "filename = 'rf_model.pkl'\n",
    "pickle.dump(RF, open(filename, 'wb'))\n",
    "models.loc['train_acc','RandomForest'] = accuracy_score(y_pred=RF.predict(X_train), y_true=y_train)"
   ]
  },
  {
   "cell_type": "code",
   "execution_count": 18,
   "metadata": {
    "id": "VisfIhwQYpU8"
   },
   "outputs": [],
   "source": [
    "boosting = AdaBoostClassifier(learning_rate=0.05, random_state=55)                             \n",
    "boosting.fit(X_train, y_train)\n",
    "filename = 'adaboost_model.pkl'\n",
    "pickle.dump(boosting, open(filename, 'wb'))\n",
    "models.loc['train_acc','Boosting'] = accuracy_score(y_pred=boosting.predict(X_train), y_true=y_train)"
   ]
  },
  {
   "cell_type": "markdown",
   "metadata": {
    "id": "gporMVhgbfqg"
   },
   "source": [
    "## Model Evaluation"
   ]
  },
  {
   "cell_type": "markdown",
   "metadata": {
    "id": "ssJJ1_PRI7e0"
   },
   "source": [
    "Untuk melihat performa model, kita melihat hasil evaluasi dengan metrik Akurasi, F1, Recall dan Precision untuk setiap train dan test set."
   ]
  },
  {
   "cell_type": "code",
   "execution_count": 19,
   "metadata": {
    "colab": {
     "base_uri": "https://localhost:8080/",
     "height": 206
    },
    "executionInfo": {
     "elapsed": 2354,
     "status": "ok",
     "timestamp": 1656400377908,
     "user": {
      "displayName": "Ardiyanto Halim",
      "userId": "08691256053057312155"
     },
     "user_tz": -420
    },
    "id": "QCBtkS70bhoY",
    "outputId": "2230c97b-60c0-42fd-ef2d-0a3fb8e4f902"
   },
   "outputs": [
    {
     "data": {
      "text/html": [
       "<div>\n",
       "<style scoped>\n",
       "    .dataframe tbody tr th:only-of-type {\n",
       "        vertical-align: middle;\n",
       "    }\n",
       "\n",
       "    .dataframe tbody tr th {\n",
       "        vertical-align: top;\n",
       "    }\n",
       "\n",
       "    .dataframe thead th {\n",
       "        text-align: right;\n",
       "    }\n",
       "</style>\n",
       "<table border=\"1\" class=\"dataframe\">\n",
       "  <thead>\n",
       "    <tr style=\"text-align: right;\">\n",
       "      <th></th>\n",
       "      <th>train acc</th>\n",
       "      <th>test acc</th>\n",
       "      <th>train f1</th>\n",
       "      <th>test f1</th>\n",
       "      <th>train recall</th>\n",
       "      <th>test recall</th>\n",
       "      <th>train precision</th>\n",
       "      <th>test precision</th>\n",
       "    </tr>\n",
       "  </thead>\n",
       "  <tbody>\n",
       "    <tr>\n",
       "      <th>KNN</th>\n",
       "      <td>89.903846</td>\n",
       "      <td>87.5</td>\n",
       "      <td>0.910256</td>\n",
       "      <td>0.894309</td>\n",
       "      <td>0.838583</td>\n",
       "      <td>0.833333</td>\n",
       "      <td>0.995327</td>\n",
       "      <td>0.964912</td>\n",
       "    </tr>\n",
       "    <tr>\n",
       "      <th>SVC</th>\n",
       "      <td>98.076923</td>\n",
       "      <td>93.269231</td>\n",
       "      <td>0.984</td>\n",
       "      <td>0.944</td>\n",
       "      <td>0.968504</td>\n",
       "      <td>0.893939</td>\n",
       "      <td>1.0</td>\n",
       "      <td>1.0</td>\n",
       "    </tr>\n",
       "    <tr>\n",
       "      <th>DecisionTree</th>\n",
       "      <td>100.0</td>\n",
       "      <td>94.230769</td>\n",
       "      <td>1.0</td>\n",
       "      <td>0.954545</td>\n",
       "      <td>1.0</td>\n",
       "      <td>0.954545</td>\n",
       "      <td>1.0</td>\n",
       "      <td>0.954545</td>\n",
       "    </tr>\n",
       "    <tr>\n",
       "      <th>RandomForest</th>\n",
       "      <td>100.0</td>\n",
       "      <td>100.0</td>\n",
       "      <td>1.0</td>\n",
       "      <td>1.0</td>\n",
       "      <td>1.0</td>\n",
       "      <td>1.0</td>\n",
       "      <td>1.0</td>\n",
       "      <td>1.0</td>\n",
       "    </tr>\n",
       "    <tr>\n",
       "      <th>Boosting</th>\n",
       "      <td>86.057692</td>\n",
       "      <td>89.423077</td>\n",
       "      <td>0.881633</td>\n",
       "      <td>0.914729</td>\n",
       "      <td>0.850394</td>\n",
       "      <td>0.893939</td>\n",
       "      <td>0.915254</td>\n",
       "      <td>0.936508</td>\n",
       "    </tr>\n",
       "  </tbody>\n",
       "</table>\n",
       "</div>"
      ],
      "text/plain": [
       "              train acc   test acc  train f1   test f1 train recall  \\\n",
       "KNN           89.903846       87.5  0.910256  0.894309     0.838583   \n",
       "SVC           98.076923  93.269231     0.984     0.944     0.968504   \n",
       "DecisionTree      100.0  94.230769       1.0  0.954545          1.0   \n",
       "RandomForest      100.0      100.0       1.0       1.0          1.0   \n",
       "Boosting      86.057692  89.423077  0.881633  0.914729     0.850394   \n",
       "\n",
       "             test recall train precision test precision  \n",
       "KNN             0.833333        0.995327       0.964912  \n",
       "SVC             0.893939             1.0            1.0  \n",
       "DecisionTree    0.954545             1.0       0.954545  \n",
       "RandomForest         1.0             1.0            1.0  \n",
       "Boosting        0.893939        0.915254       0.936508  "
      ]
     },
     "execution_count": 19,
     "metadata": {},
     "output_type": "execute_result"
    }
   ],
   "source": [
    "X_test.loc[:, numerical_features] = scaler.transform(X_test[numerical_features])\n",
    "metrics = pd.DataFrame(columns=['train acc', 'test acc', 'train f1', 'test f1',\n",
    "                                'train recall', 'test recall', 'train precision',\n",
    "                                'test precision'], \n",
    "                   index=['KNN', 'SVC', 'DecisionTree', 'RandomForest', 'Boosting'])\n",
    "\n",
    "model_dict = {'KNN': knn, 'SVC' : svc, 'DecisionTree': DT, 'RandomForest': RF, 'Boosting': boosting}\n",
    " \n",
    "for name, model in model_dict.items():\n",
    "    metrics.loc[name, 'train acc'] = accuracy_score(y_true=y_train, y_pred=model.predict(X_train))*100\n",
    "    metrics.loc[name, 'test acc'] = accuracy_score(y_true=y_test, y_pred=model.predict(X_test))*100\n",
    "    metrics.loc[name, 'train f1'] = f1_score(y_true=y_train, y_pred=model.predict(X_train))\n",
    "    metrics.loc[name, 'test f1'] = f1_score(y_true=y_test, y_pred=model.predict(X_test))\n",
    "    metrics.loc[name, 'train recall'] = recall_score(y_true=y_train, y_pred=model.predict(X_train))\n",
    "    metrics.loc[name, 'test recall'] = recall_score(y_true=y_test, y_pred=model.predict(X_test))\n",
    "    metrics.loc[name, 'train precision'] = precision_score(y_true=y_train, y_pred=model.predict(X_train))\n",
    "    metrics.loc[name, 'test precision'] = precision_score(y_true=y_test, y_pred=model.predict(X_test))\n",
    "\n",
    "metrics"
   ]
  },
  {
   "cell_type": "markdown",
   "metadata": {
    "id": "834RjiNGJCCI"
   },
   "source": [
    "Dataset ini memiliki data yang cukup seimbang (sekitar 60% adalah \"1\" untuk variabel kelas), maka akan bagus menggunakan skor F1 daripada ROC-AUC. Kami mendapatkan bahwa model terbaik pada train set dan test set adalah Random Forest Classification dengan 100% pada semua metrik evaluasi. Dan yang paling buruk adalah KNN dengan akurasi 86,5% pada test set, dan terlebih lagi hanya 81,8% pada recall dimana buruk jika kita menerapkannya ke penanganan pertama di kehidupan nyata. Selalu lebih baik di mana seseorang yang tidak diabetes diprediksi menderita diabetes dan mendapat pemeriksaan lanjutan daripada seseorang dengan diabetes yang diprediksi bukan diabetes dan tidak mendapat perawatan sampai penyakit menjadi lebih buruk."
   ]
  },
  {
   "cell_type": "code",
   "execution_count": 21,
   "metadata": {
    "colab": {
     "base_uri": "https://localhost:8080/",
     "height": 677
    },
    "executionInfo": {
     "elapsed": 19,
     "status": "ok",
     "timestamp": 1656400377912,
     "user": {
      "displayName": "Ardiyanto Halim",
      "userId": "08691256053057312155"
     },
     "user_tz": -420
    },
    "id": "ArYBJ6Dcem5q",
    "outputId": "beac77de-168c-4b2e-e84c-6786db32cedf"
   },
   "outputs": [
    {
     "name": "stdout",
     "output_type": "stream",
     "text": [
      "          age  polyuria  polydipsia  sudden_weight_loss  weakness  polyphagia  \\\n",
      "264 -0.819134         1           1                   1         1           1   \n",
      "327 -0.052233         0           0                   0         0           0   \n",
      "289 -0.648712         0           0                   1         0           0   \n",
      "172  1.055514         1           0                   0         0           0   \n",
      "326  0.459035         0           0                   0         1           0   \n",
      "472  2.078049         1           0                   0         0           1   \n",
      "36   1.055514         1           0                   0         0           0   \n",
      "5    0.629457         1           1                   0         1           1   \n",
      "185  3.185796         1           1                   1         1           1   \n",
      "389  0.459035         0           0                   0         1           0   \n",
      "344  1.140725         1           0                   0         0           1   \n",
      "138  0.288612         1           1                   1         1           0   \n",
      "75   0.629457         1           1                   1         1           0   \n",
      "191  0.544246         1           1                   0         0           0   \n",
      "201 -1.671247         0           0                   1         0           0   \n",
      "263  0.714669         1           0                   1         1           0   \n",
      "34   0.118190         1           1                   0         1           0   \n",
      "337  0.629457         1           1                   1         1           0   \n",
      "221 -0.393078         0           0                   0         1           0   \n",
      "442  1.311148         1           1                   1         1           1   \n",
      "\n",
      "     genital_thrush  visual_blurring  itching  irritability  delayed_healing  \\\n",
      "264               0                1        1             1                1   \n",
      "327               0                0        0             1                0   \n",
      "289               0                0        0             0                0   \n",
      "172               0                1        0             0                0   \n",
      "326               0                1        1             0                1   \n",
      "472               0                1        1             0                1   \n",
      "36                0                1        0             0                0   \n",
      "5                 0                1        1             0                1   \n",
      "185               1                1        1             0                1   \n",
      "389               0                1        1             0                1   \n",
      "344               0                0        0             1                0   \n",
      "138               1                0        0             1                1   \n",
      "75                0                1        0             0                0   \n",
      "191               0                1        0             0                0   \n",
      "201               0                0        0             0                0   \n",
      "263               1                0        1             1                0   \n",
      "34                0                1        1             0                0   \n",
      "337               0                1        0             0                0   \n",
      "221               1                0        1             0                1   \n",
      "442               0                1        0             0                0   \n",
      "\n",
      "     partial_paresis  muscle_stiffness  alopecia  obesity  gender_Female  \\\n",
      "264                1                 1         0        0              1   \n",
      "327                1                 0         0        1              0   \n",
      "289                0                 0         0        1              0   \n",
      "172                1                 0         1        0              0   \n",
      "326                0                 1         1        0              0   \n",
      "472                1                 1         1        0              0   \n",
      "36                 1                 0         1        0              0   \n",
      "5                  0                 1         1        1              0   \n",
      "185                1                 1         0        0              0   \n",
      "389                0                 1         1        0              0   \n",
      "344                0                 0         1        0              1   \n",
      "138                1                 0         1        0              0   \n",
      "75                 1                 0         0        1              1   \n",
      "191                0                 0         0        0              0   \n",
      "201                0                 0         0        0              0   \n",
      "263                0                 0         1        0              0   \n",
      "34                 0                 0         0        0              0   \n",
      "337                1                 0         0        1              1   \n",
      "221                0                 0         1        0              0   \n",
      "442                0                 1         1        1              0   \n",
      "\n",
      "     gender_Male  \n",
      "264            0  \n",
      "327            1  \n",
      "289            1  \n",
      "172            1  \n",
      "326            1  \n",
      "472            1  \n",
      "36             1  \n",
      "5              1  \n",
      "185            1  \n",
      "389            1  \n",
      "344            0  \n",
      "138            1  \n",
      "75             0  \n",
      "191            1  \n",
      "201            1  \n",
      "263            1  \n",
      "34             1  \n",
      "337            0  \n",
      "221            1  \n",
      "442            1  \n",
      "----\n",
      "          age  polyuria  polydipsia  sudden_weight_loss  weakness  polyphagia  \\\n",
      "264 -0.819134         1           1                   1         1           1   \n",
      "327 -0.052233         0           0                   0         0           0   \n",
      "289 -0.648712         0           0                   1         0           0   \n",
      "172  1.055514         1           0                   0         0           0   \n",
      "326  0.459035         0           0                   0         1           0   \n",
      "472  2.078049         1           0                   0         0           1   \n",
      "36   1.055514         1           0                   0         0           0   \n",
      "5    0.629457         1           1                   0         1           1   \n",
      "185  3.185796         1           1                   1         1           1   \n",
      "389  0.459035         0           0                   0         1           0   \n",
      "344  1.140725         1           0                   0         0           1   \n",
      "138  0.288612         1           1                   1         1           0   \n",
      "75   0.629457         1           1                   1         1           0   \n",
      "191  0.544246         1           1                   0         0           0   \n",
      "201 -1.671247         0           0                   1         0           0   \n",
      "263  0.714669         1           0                   1         1           0   \n",
      "34   0.118190         1           1                   0         1           0   \n",
      "337  0.629457         1           1                   1         1           0   \n",
      "221 -0.393078         0           0                   0         1           0   \n",
      "442  1.311148         1           1                   1         1           1   \n",
      "\n",
      "     genital_thrush  visual_blurring  itching  irritability  delayed_healing  \\\n",
      "264               0                1        1             1                1   \n",
      "327               0                0        0             1                0   \n",
      "289               0                0        0             0                0   \n",
      "172               0                1        0             0                0   \n",
      "326               0                1        1             0                1   \n",
      "472               0                1        1             0                1   \n",
      "36                0                1        0             0                0   \n",
      "5                 0                1        1             0                1   \n",
      "185               1                1        1             0                1   \n",
      "389               0                1        1             0                1   \n",
      "344               0                0        0             1                0   \n",
      "138               1                0        0             1                1   \n",
      "75                0                1        0             0                0   \n",
      "191               0                1        0             0                0   \n",
      "201               0                0        0             0                0   \n",
      "263               1                0        1             1                0   \n",
      "34                0                1        1             0                0   \n",
      "337               0                1        0             0                0   \n",
      "221               1                0        1             0                1   \n",
      "442               0                1        0             0                0   \n",
      "\n",
      "     partial_paresis  muscle_stiffness  alopecia  obesity  gender_Female  \\\n",
      "264                1                 1         0        0              1   \n",
      "327                1                 0         0        1              0   \n",
      "289                0                 0         0        1              0   \n",
      "172                1                 0         1        0              0   \n",
      "326                0                 1         1        0              0   \n",
      "472                1                 1         1        0              0   \n",
      "36                 1                 0         1        0              0   \n",
      "5                  0                 1         1        1              0   \n",
      "185                1                 1         0        0              0   \n",
      "389                0                 1         1        0              0   \n",
      "344                0                 0         1        0              1   \n",
      "138                1                 0         1        0              0   \n",
      "75                 1                 0         0        1              1   \n",
      "191                0                 0         0        0              0   \n",
      "201                0                 0         0        0              0   \n",
      "263                0                 0         1        0              0   \n",
      "34                 0                 0         0        0              0   \n",
      "337                1                 0         0        1              1   \n",
      "221                0                 0         1        0              0   \n",
      "442                0                 1         1        1              0   \n",
      "\n",
      "     gender_Male  \n",
      "264            0  \n",
      "327            1  \n",
      "289            1  \n",
      "172            1  \n",
      "326            1  \n",
      "472            1  \n",
      "36             1  \n",
      "5              1  \n",
      "185            1  \n",
      "389            1  \n",
      "344            0  \n",
      "138            1  \n",
      "75             0  \n",
      "191            1  \n",
      "201            1  \n",
      "263            1  \n",
      "34             1  \n",
      "337            0  \n",
      "221            1  \n",
      "442            1  \n",
      "----\n",
      "          age  polyuria  polydipsia  sudden_weight_loss  weakness  polyphagia  \\\n",
      "264 -0.819134         1           1                   1         1           1   \n",
      "327 -0.052233         0           0                   0         0           0   \n",
      "289 -0.648712         0           0                   1         0           0   \n",
      "172  1.055514         1           0                   0         0           0   \n",
      "326  0.459035         0           0                   0         1           0   \n",
      "472  2.078049         1           0                   0         0           1   \n",
      "36   1.055514         1           0                   0         0           0   \n",
      "5    0.629457         1           1                   0         1           1   \n",
      "185  3.185796         1           1                   1         1           1   \n",
      "389  0.459035         0           0                   0         1           0   \n",
      "344  1.140725         1           0                   0         0           1   \n",
      "138  0.288612         1           1                   1         1           0   \n",
      "75   0.629457         1           1                   1         1           0   \n",
      "191  0.544246         1           1                   0         0           0   \n",
      "201 -1.671247         0           0                   1         0           0   \n",
      "263  0.714669         1           0                   1         1           0   \n",
      "34   0.118190         1           1                   0         1           0   \n",
      "337  0.629457         1           1                   1         1           0   \n",
      "221 -0.393078         0           0                   0         1           0   \n",
      "442  1.311148         1           1                   1         1           1   \n",
      "\n",
      "     genital_thrush  visual_blurring  itching  irritability  delayed_healing  \\\n",
      "264               0                1        1             1                1   \n",
      "327               0                0        0             1                0   \n",
      "289               0                0        0             0                0   \n",
      "172               0                1        0             0                0   \n",
      "326               0                1        1             0                1   \n",
      "472               0                1        1             0                1   \n",
      "36                0                1        0             0                0   \n",
      "5                 0                1        1             0                1   \n",
      "185               1                1        1             0                1   \n",
      "389               0                1        1             0                1   \n",
      "344               0                0        0             1                0   \n",
      "138               1                0        0             1                1   \n",
      "75                0                1        0             0                0   \n",
      "191               0                1        0             0                0   \n",
      "201               0                0        0             0                0   \n",
      "263               1                0        1             1                0   \n",
      "34                0                1        1             0                0   \n",
      "337               0                1        0             0                0   \n",
      "221               1                0        1             0                1   \n",
      "442               0                1        0             0                0   \n",
      "\n",
      "     partial_paresis  muscle_stiffness  alopecia  obesity  gender_Female  \\\n",
      "264                1                 1         0        0              1   \n",
      "327                1                 0         0        1              0   \n",
      "289                0                 0         0        1              0   \n",
      "172                1                 0         1        0              0   \n",
      "326                0                 1         1        0              0   \n",
      "472                1                 1         1        0              0   \n",
      "36                 1                 0         1        0              0   \n",
      "5                  0                 1         1        1              0   \n",
      "185                1                 1         0        0              0   \n",
      "389                0                 1         1        0              0   \n",
      "344                0                 0         1        0              1   \n",
      "138                1                 0         1        0              0   \n",
      "75                 1                 0         0        1              1   \n",
      "191                0                 0         0        0              0   \n",
      "201                0                 0         0        0              0   \n",
      "263                0                 0         1        0              0   \n",
      "34                 0                 0         0        0              0   \n",
      "337                1                 0         0        1              1   \n",
      "221                0                 0         1        0              0   \n",
      "442                0                 1         1        1              0   \n",
      "\n",
      "     gender_Male  \n",
      "264            0  \n",
      "327            1  \n",
      "289            1  \n",
      "172            1  \n",
      "326            1  \n",
      "472            1  \n",
      "36             1  \n",
      "5              1  \n",
      "185            1  \n",
      "389            1  \n",
      "344            0  \n",
      "138            1  \n",
      "75             0  \n",
      "191            1  \n",
      "201            1  \n",
      "263            1  \n",
      "34             1  \n",
      "337            0  \n",
      "221            1  \n",
      "442            1  \n",
      "----\n",
      "          age  polyuria  polydipsia  sudden_weight_loss  weakness  polyphagia  \\\n",
      "264 -0.819134         1           1                   1         1           1   \n",
      "327 -0.052233         0           0                   0         0           0   \n",
      "289 -0.648712         0           0                   1         0           0   \n",
      "172  1.055514         1           0                   0         0           0   \n",
      "326  0.459035         0           0                   0         1           0   \n",
      "472  2.078049         1           0                   0         0           1   \n",
      "36   1.055514         1           0                   0         0           0   \n",
      "5    0.629457         1           1                   0         1           1   \n",
      "185  3.185796         1           1                   1         1           1   \n",
      "389  0.459035         0           0                   0         1           0   \n",
      "344  1.140725         1           0                   0         0           1   \n",
      "138  0.288612         1           1                   1         1           0   \n",
      "75   0.629457         1           1                   1         1           0   \n",
      "191  0.544246         1           1                   0         0           0   \n",
      "201 -1.671247         0           0                   1         0           0   \n",
      "263  0.714669         1           0                   1         1           0   \n",
      "34   0.118190         1           1                   0         1           0   \n",
      "337  0.629457         1           1                   1         1           0   \n",
      "221 -0.393078         0           0                   0         1           0   \n",
      "442  1.311148         1           1                   1         1           1   \n",
      "\n",
      "     genital_thrush  visual_blurring  itching  irritability  delayed_healing  \\\n",
      "264               0                1        1             1                1   \n",
      "327               0                0        0             1                0   \n",
      "289               0                0        0             0                0   \n",
      "172               0                1        0             0                0   \n",
      "326               0                1        1             0                1   \n",
      "472               0                1        1             0                1   \n",
      "36                0                1        0             0                0   \n",
      "5                 0                1        1             0                1   \n",
      "185               1                1        1             0                1   \n",
      "389               0                1        1             0                1   \n",
      "344               0                0        0             1                0   \n",
      "138               1                0        0             1                1   \n",
      "75                0                1        0             0                0   \n",
      "191               0                1        0             0                0   \n",
      "201               0                0        0             0                0   \n",
      "263               1                0        1             1                0   \n",
      "34                0                1        1             0                0   \n",
      "337               0                1        0             0                0   \n",
      "221               1                0        1             0                1   \n",
      "442               0                1        0             0                0   \n",
      "\n",
      "     partial_paresis  muscle_stiffness  alopecia  obesity  gender_Female  \\\n",
      "264                1                 1         0        0              1   \n",
      "327                1                 0         0        1              0   \n",
      "289                0                 0         0        1              0   \n",
      "172                1                 0         1        0              0   \n",
      "326                0                 1         1        0              0   \n",
      "472                1                 1         1        0              0   \n",
      "36                 1                 0         1        0              0   \n",
      "5                  0                 1         1        1              0   \n",
      "185                1                 1         0        0              0   \n",
      "389                0                 1         1        0              0   \n",
      "344                0                 0         1        0              1   \n",
      "138                1                 0         1        0              0   \n",
      "75                 1                 0         0        1              1   \n",
      "191                0                 0         0        0              0   \n",
      "201                0                 0         0        0              0   \n",
      "263                0                 0         1        0              0   \n",
      "34                 0                 0         0        0              0   \n",
      "337                1                 0         0        1              1   \n",
      "221                0                 0         1        0              0   \n",
      "442                0                 1         1        1              0   \n",
      "\n",
      "     gender_Male  \n",
      "264            0  \n",
      "327            1  \n",
      "289            1  \n",
      "172            1  \n",
      "326            1  \n",
      "472            1  \n",
      "36             1  \n",
      "5              1  \n",
      "185            1  \n",
      "389            1  \n",
      "344            0  \n",
      "138            1  \n",
      "75             0  \n",
      "191            1  \n",
      "201            1  \n",
      "263            1  \n",
      "34             1  \n",
      "337            0  \n",
      "221            1  \n",
      "442            1  \n",
      "----\n",
      "          age  polyuria  polydipsia  sudden_weight_loss  weakness  polyphagia  \\\n",
      "264 -0.819134         1           1                   1         1           1   \n",
      "327 -0.052233         0           0                   0         0           0   \n",
      "289 -0.648712         0           0                   1         0           0   \n",
      "172  1.055514         1           0                   0         0           0   \n",
      "326  0.459035         0           0                   0         1           0   \n",
      "472  2.078049         1           0                   0         0           1   \n",
      "36   1.055514         1           0                   0         0           0   \n",
      "5    0.629457         1           1                   0         1           1   \n",
      "185  3.185796         1           1                   1         1           1   \n",
      "389  0.459035         0           0                   0         1           0   \n",
      "344  1.140725         1           0                   0         0           1   \n",
      "138  0.288612         1           1                   1         1           0   \n",
      "75   0.629457         1           1                   1         1           0   \n",
      "191  0.544246         1           1                   0         0           0   \n",
      "201 -1.671247         0           0                   1         0           0   \n",
      "263  0.714669         1           0                   1         1           0   \n",
      "34   0.118190         1           1                   0         1           0   \n",
      "337  0.629457         1           1                   1         1           0   \n",
      "221 -0.393078         0           0                   0         1           0   \n",
      "442  1.311148         1           1                   1         1           1   \n",
      "\n",
      "     genital_thrush  visual_blurring  itching  irritability  delayed_healing  \\\n",
      "264               0                1        1             1                1   \n",
      "327               0                0        0             1                0   \n",
      "289               0                0        0             0                0   \n",
      "172               0                1        0             0                0   \n",
      "326               0                1        1             0                1   \n",
      "472               0                1        1             0                1   \n",
      "36                0                1        0             0                0   \n",
      "5                 0                1        1             0                1   \n",
      "185               1                1        1             0                1   \n",
      "389               0                1        1             0                1   \n",
      "344               0                0        0             1                0   \n",
      "138               1                0        0             1                1   \n",
      "75                0                1        0             0                0   \n",
      "191               0                1        0             0                0   \n",
      "201               0                0        0             0                0   \n",
      "263               1                0        1             1                0   \n",
      "34                0                1        1             0                0   \n",
      "337               0                1        0             0                0   \n",
      "221               1                0        1             0                1   \n",
      "442               0                1        0             0                0   \n",
      "\n",
      "     partial_paresis  muscle_stiffness  alopecia  obesity  gender_Female  \\\n",
      "264                1                 1         0        0              1   \n",
      "327                1                 0         0        1              0   \n",
      "289                0                 0         0        1              0   \n",
      "172                1                 0         1        0              0   \n",
      "326                0                 1         1        0              0   \n",
      "472                1                 1         1        0              0   \n",
      "36                 1                 0         1        0              0   \n",
      "5                  0                 1         1        1              0   \n",
      "185                1                 1         0        0              0   \n",
      "389                0                 1         1        0              0   \n",
      "344                0                 0         1        0              1   \n",
      "138                1                 0         1        0              0   \n",
      "75                 1                 0         0        1              1   \n",
      "191                0                 0         0        0              0   \n",
      "201                0                 0         0        0              0   \n",
      "263                0                 0         1        0              0   \n",
      "34                 0                 0         0        0              0   \n",
      "337                1                 0         0        1              1   \n",
      "221                0                 0         1        0              0   \n",
      "442                0                 1         1        1              0   \n",
      "\n",
      "     gender_Male  \n",
      "264            0  \n",
      "327            1  \n",
      "289            1  \n",
      "172            1  \n",
      "326            1  \n",
      "472            1  \n",
      "36             1  \n",
      "5              1  \n",
      "185            1  \n",
      "389            1  \n",
      "344            0  \n",
      "138            1  \n",
      "75             0  \n",
      "191            1  \n",
      "201            1  \n",
      "263            1  \n",
      "34             1  \n",
      "337            0  \n",
      "221            1  \n",
      "442            1  \n",
      "----\n"
     ]
    },
    {
     "data": {
      "text/html": [
       "<div>\n",
       "<style scoped>\n",
       "    .dataframe tbody tr th:only-of-type {\n",
       "        vertical-align: middle;\n",
       "    }\n",
       "\n",
       "    .dataframe tbody tr th {\n",
       "        vertical-align: top;\n",
       "    }\n",
       "\n",
       "    .dataframe thead th {\n",
       "        text-align: right;\n",
       "    }\n",
       "</style>\n",
       "<table border=\"1\" class=\"dataframe\">\n",
       "  <thead>\n",
       "    <tr style=\"text-align: right;\">\n",
       "      <th></th>\n",
       "      <th>y_true</th>\n",
       "      <th>KNN_pred</th>\n",
       "      <th>SVC_pred</th>\n",
       "      <th>DecisionTree_pred</th>\n",
       "      <th>RandomForest_pred</th>\n",
       "      <th>Boosting_pred</th>\n",
       "    </tr>\n",
       "  </thead>\n",
       "  <tbody>\n",
       "    <tr>\n",
       "      <th>264</th>\n",
       "      <td>1</td>\n",
       "      <td>1</td>\n",
       "      <td>1</td>\n",
       "      <td>1</td>\n",
       "      <td>1</td>\n",
       "      <td>1</td>\n",
       "    </tr>\n",
       "    <tr>\n",
       "      <th>327</th>\n",
       "      <td>0</td>\n",
       "      <td>0</td>\n",
       "      <td>0</td>\n",
       "      <td>0</td>\n",
       "      <td>0</td>\n",
       "      <td>0</td>\n",
       "    </tr>\n",
       "    <tr>\n",
       "      <th>289</th>\n",
       "      <td>0</td>\n",
       "      <td>0</td>\n",
       "      <td>0</td>\n",
       "      <td>0</td>\n",
       "      <td>0</td>\n",
       "      <td>0</td>\n",
       "    </tr>\n",
       "    <tr>\n",
       "      <th>172</th>\n",
       "      <td>1</td>\n",
       "      <td>1</td>\n",
       "      <td>1</td>\n",
       "      <td>1</td>\n",
       "      <td>1</td>\n",
       "      <td>1</td>\n",
       "    </tr>\n",
       "    <tr>\n",
       "      <th>326</th>\n",
       "      <td>0</td>\n",
       "      <td>0</td>\n",
       "      <td>0</td>\n",
       "      <td>0</td>\n",
       "      <td>0</td>\n",
       "      <td>0</td>\n",
       "    </tr>\n",
       "    <tr>\n",
       "      <th>472</th>\n",
       "      <td>0</td>\n",
       "      <td>0</td>\n",
       "      <td>0</td>\n",
       "      <td>0</td>\n",
       "      <td>0</td>\n",
       "      <td>1</td>\n",
       "    </tr>\n",
       "    <tr>\n",
       "      <th>36</th>\n",
       "      <td>1</td>\n",
       "      <td>1</td>\n",
       "      <td>1</td>\n",
       "      <td>1</td>\n",
       "      <td>1</td>\n",
       "      <td>1</td>\n",
       "    </tr>\n",
       "    <tr>\n",
       "      <th>5</th>\n",
       "      <td>1</td>\n",
       "      <td>0</td>\n",
       "      <td>1</td>\n",
       "      <td>1</td>\n",
       "      <td>1</td>\n",
       "      <td>1</td>\n",
       "    </tr>\n",
       "    <tr>\n",
       "      <th>185</th>\n",
       "      <td>1</td>\n",
       "      <td>1</td>\n",
       "      <td>1</td>\n",
       "      <td>1</td>\n",
       "      <td>1</td>\n",
       "      <td>1</td>\n",
       "    </tr>\n",
       "    <tr>\n",
       "      <th>389</th>\n",
       "      <td>0</td>\n",
       "      <td>0</td>\n",
       "      <td>0</td>\n",
       "      <td>0</td>\n",
       "      <td>0</td>\n",
       "      <td>0</td>\n",
       "    </tr>\n",
       "    <tr>\n",
       "      <th>344</th>\n",
       "      <td>1</td>\n",
       "      <td>1</td>\n",
       "      <td>1</td>\n",
       "      <td>1</td>\n",
       "      <td>1</td>\n",
       "      <td>1</td>\n",
       "    </tr>\n",
       "    <tr>\n",
       "      <th>138</th>\n",
       "      <td>1</td>\n",
       "      <td>1</td>\n",
       "      <td>1</td>\n",
       "      <td>1</td>\n",
       "      <td>1</td>\n",
       "      <td>1</td>\n",
       "    </tr>\n",
       "    <tr>\n",
       "      <th>75</th>\n",
       "      <td>1</td>\n",
       "      <td>1</td>\n",
       "      <td>1</td>\n",
       "      <td>1</td>\n",
       "      <td>1</td>\n",
       "      <td>1</td>\n",
       "    </tr>\n",
       "    <tr>\n",
       "      <th>191</th>\n",
       "      <td>1</td>\n",
       "      <td>1</td>\n",
       "      <td>1</td>\n",
       "      <td>1</td>\n",
       "      <td>1</td>\n",
       "      <td>1</td>\n",
       "    </tr>\n",
       "    <tr>\n",
       "      <th>201</th>\n",
       "      <td>0</td>\n",
       "      <td>0</td>\n",
       "      <td>0</td>\n",
       "      <td>0</td>\n",
       "      <td>0</td>\n",
       "      <td>0</td>\n",
       "    </tr>\n",
       "    <tr>\n",
       "      <th>263</th>\n",
       "      <td>1</td>\n",
       "      <td>1</td>\n",
       "      <td>1</td>\n",
       "      <td>1</td>\n",
       "      <td>1</td>\n",
       "      <td>1</td>\n",
       "    </tr>\n",
       "    <tr>\n",
       "      <th>34</th>\n",
       "      <td>1</td>\n",
       "      <td>1</td>\n",
       "      <td>1</td>\n",
       "      <td>1</td>\n",
       "      <td>1</td>\n",
       "      <td>1</td>\n",
       "    </tr>\n",
       "    <tr>\n",
       "      <th>337</th>\n",
       "      <td>1</td>\n",
       "      <td>1</td>\n",
       "      <td>1</td>\n",
       "      <td>1</td>\n",
       "      <td>1</td>\n",
       "      <td>1</td>\n",
       "    </tr>\n",
       "    <tr>\n",
       "      <th>221</th>\n",
       "      <td>0</td>\n",
       "      <td>0</td>\n",
       "      <td>0</td>\n",
       "      <td>0</td>\n",
       "      <td>0</td>\n",
       "      <td>0</td>\n",
       "    </tr>\n",
       "    <tr>\n",
       "      <th>442</th>\n",
       "      <td>1</td>\n",
       "      <td>1</td>\n",
       "      <td>1</td>\n",
       "      <td>1</td>\n",
       "      <td>1</td>\n",
       "      <td>1</td>\n",
       "    </tr>\n",
       "  </tbody>\n",
       "</table>\n",
       "</div>"
      ],
      "text/plain": [
       "     y_true  KNN_pred  SVC_pred  DecisionTree_pred  RandomForest_pred  \\\n",
       "264       1         1         1                  1                  1   \n",
       "327       0         0         0                  0                  0   \n",
       "289       0         0         0                  0                  0   \n",
       "172       1         1         1                  1                  1   \n",
       "326       0         0         0                  0                  0   \n",
       "472       0         0         0                  0                  0   \n",
       "36        1         1         1                  1                  1   \n",
       "5         1         0         1                  1                  1   \n",
       "185       1         1         1                  1                  1   \n",
       "389       0         0         0                  0                  0   \n",
       "344       1         1         1                  1                  1   \n",
       "138       1         1         1                  1                  1   \n",
       "75        1         1         1                  1                  1   \n",
       "191       1         1         1                  1                  1   \n",
       "201       0         0         0                  0                  0   \n",
       "263       1         1         1                  1                  1   \n",
       "34        1         1         1                  1                  1   \n",
       "337       1         1         1                  1                  1   \n",
       "221       0         0         0                  0                  0   \n",
       "442       1         1         1                  1                  1   \n",
       "\n",
       "     Boosting_pred  \n",
       "264              1  \n",
       "327              0  \n",
       "289              0  \n",
       "172              1  \n",
       "326              0  \n",
       "472              1  \n",
       "36               1  \n",
       "5                1  \n",
       "185              1  \n",
       "389              0  \n",
       "344              1  \n",
       "138              1  \n",
       "75               1  \n",
       "191              1  \n",
       "201              0  \n",
       "263              1  \n",
       "34               1  \n",
       "337              1  \n",
       "221              0  \n",
       "442              1  "
      ]
     },
     "execution_count": 21,
     "metadata": {},
     "output_type": "execute_result"
    }
   ],
   "source": [
    "prediction = X_test.iloc[:20].copy()\n",
    "pred_dict = {'y_true':y_test[:20]}\n",
    "for name, model in model_dict.items():\n",
    "    print(prediction)\n",
    "    print(\"----\")\n",
    "    pred_dict[name+'_pred'] = model.predict(prediction)\n",
    " \n",
    "pd.DataFrame(pred_dict)"
   ]
  },
  {
   "cell_type": "markdown",
   "metadata": {
    "id": "rgXUQNmzJPXF"
   },
   "source": [
    "Di atas adalah bukti dari 20 contoh hasil prediksi untuk masing-masing model. ditemukan bahwa pada data nomor 5, KNN memiliki prediksi yang salah, di mana y true adalah '1' dan prediksi KNN adalah '0'. Hal ini sangat berbahaya dalam dunia medis, penderita diabetes akan semakin parah jika tidak segera diobati."
   ]
  },
  {
   "cell_type": "markdown",
   "metadata": {
    "id": "XrTBovid_do6"
   },
   "source": [
    "## Using Deep Neural Network"
   ]
  },
  {
   "cell_type": "markdown",
   "metadata": {
    "id": "Fl14PNnzKEgP"
   },
   "source": [
    "Selain model klasifikasi yang tersedia di sklearn, kita juga dapat membangun model Neural Network kita sendiri menggunakan tensorflow. di sini saya menggunakan checkpoint untuk memastikan tensorflow menyimpan akurasi model terbaik saya di antara 500 epochs yang saya gunakan. Disini juga menggunakan 2 Dense layer dengan input_shape 17, saya menggunakan dropout layer untuk mencegah overfitting. Kemudian saya menggunakan adam optimizer dan binary crossentropy karena hasil outputnya adalah biner."
   ]
  },
  {
   "cell_type": "code",
   "execution_count": null,
   "metadata": {
    "colab": {
     "base_uri": "https://localhost:8080/"
    },
    "executionInfo": {
     "elapsed": 32898,
     "status": "ok",
     "timestamp": 1656400410795,
     "user": {
      "displayName": "Ardiyanto Halim",
      "userId": "08691256053057312155"
     },
     "user_tz": -420
    },
    "id": "tbi3F7i__iPq",
    "outputId": "0d18ac2e-611f-43f6-f50f-43983db21574"
   },
   "outputs": [],
   "source": [
    "checkpoint_filepath = './tmp/checkpoint'\n",
    "model_checkpoint_callback = tf.keras.callbacks.ModelCheckpoint(\n",
    "    filepath=checkpoint_filepath,\n",
    "    save_weights_only=True,\n",
    "    monitor='accuracy',\n",
    "    mode='max',\n",
    "    save_best_only=True)\n",
    "\n",
    "model_nn = tf.keras.Sequential([\n",
    "            tf.keras.layers.Dense(32, activation='relu', input_shape=[17]),\n",
    "            tf.keras.layers.Dropout(0.2),\n",
    "            tf.keras.layers.Dense(1, activation='sigmoid')\n",
    "          ])\n",
    "model_nn.compile(optimizer='adam', loss='binary_crossentropy', metrics=['accuracy'])\n",
    "history = model_nn.fit(X_train, y_train, \n",
    "                       epochs=500, callbacks=[model_checkpoint_callback])"
   ]
  },
  {
   "cell_type": "code",
   "execution_count": null,
   "metadata": {
    "colab": {
     "base_uri": "https://localhost:8080/",
     "height": 262
    },
    "executionInfo": {
     "elapsed": 63,
     "status": "ok",
     "timestamp": 1656400410798,
     "user": {
      "displayName": "Ardiyanto Halim",
      "userId": "08691256053057312155"
     },
     "user_tz": -420
    },
    "id": "1yFx-WCOGL_u",
    "outputId": "a8e81e1d-a328-4714-d56c-e9b698cb00d0"
   },
   "outputs": [],
   "source": [
    "acc = history.history['accuracy']\n",
    "loss = history.history['loss']\n",
    "\n",
    "plt.figure(figsize=(8, 8))\n",
    "plt.subplot(2, 1, 1)\n",
    "plt.plot(acc, label='Training Accuracy')\n",
    "plt.plot(loss, label='Training Loss')\n",
    "plt.legend(loc='best')\n",
    "plt.ylabel('Accuracy')\n",
    "plt.ylim([min(plt.ylim()),1])\n",
    "plt.title('Training and Validation Accuracy')\n",
    "plt.show()"
   ]
  },
  {
   "cell_type": "code",
   "execution_count": null,
   "metadata": {},
   "outputs": [],
   "source": [
    "model_nn.save('nn_model.h5')"
   ]
  },
  {
   "cell_type": "markdown",
   "metadata": {
    "id": "aP5vooTxSn_2"
   },
   "source": [
    "Dapat dilihat dari grafik bahwa akurasi training semakin naik dan loss semakin turun tiap bertambahnya epochs, hal ini menunjukan performa yang baik dari sebuah model."
   ]
  },
  {
   "cell_type": "code",
   "execution_count": null,
   "metadata": {
    "colab": {
     "base_uri": "https://localhost:8080/"
    },
    "executionInfo": {
     "elapsed": 46,
     "status": "ok",
     "timestamp": 1656400410800,
     "user": {
      "displayName": "Ardiyanto Halim",
      "userId": "08691256053057312155"
     },
     "user_tz": -420
    },
    "id": "0FQHKEjAD1ft",
    "outputId": "e82a80b2-6bb4-4742-e24d-ef949c0f53a3"
   },
   "outputs": [],
   "source": [
    "model_nn.load_weights(checkpoint_filepath)\n",
    "acc_train = model_nn.evaluate(X_train, y_train)"
   ]
  },
  {
   "cell_type": "markdown",
   "metadata": {
    "id": "f8F9k8jAK8a_"
   },
   "source": [
    "Evaluasi ulang model pada training set untuk memastikan checkpoint telah menyimpan model dengan performa akurasi terbaik."
   ]
  },
  {
   "cell_type": "code",
   "execution_count": null,
   "metadata": {
    "colab": {
     "base_uri": "https://localhost:8080/"
    },
    "executionInfo": {
     "elapsed": 611,
     "status": "ok",
     "timestamp": 1656400411394,
     "user": {
      "displayName": "Ardiyanto Halim",
      "userId": "08691256053057312155"
     },
     "user_tz": -420
    },
    "id": "3CxeeBNmELWE",
    "outputId": "a3fe14af-0f3c-465c-d831-412218355b72"
   },
   "outputs": [],
   "source": [
    "acc_test = model_nn.evaluate(X_test, y_test)"
   ]
  },
  {
   "cell_type": "markdown",
   "metadata": {
    "id": "sKk_QmvOLN8C"
   },
   "source": [
    "Kemudian saya mengevaluasi test set dan mendapatkan akurasi 97,12% dengan loss 0,0369. kinerjanya cukup baik dengan dataset kecil. 99,04% Akurasi pelatihan dan 97,12% Akurasi test set sedikit lebih baik daripada model Decision Tree, tetapi Random Forest Classifier Masih merupakan model terbaik untuk kasus ini."
   ]
  },
  {
   "cell_type": "markdown",
   "metadata": {
    "id": "qkOwRkGcTWJM"
   },
   "source": [
    "Kemudian berikut merupakan total perbandingan antara penggunaan algoritma machine learning pada modul scikit learn dan penggunaan neural network. Penggunaan Random Forest masih menjadi prioritas karena performa yang dapat dikatakan sempurna."
   ]
  },
  {
   "cell_type": "code",
   "execution_count": null,
   "metadata": {
    "colab": {
     "base_uri": "https://localhost:8080/",
     "height": 206
    },
    "executionInfo": {
     "elapsed": 25,
     "status": "ok",
     "timestamp": 1656400411396,
     "user": {
      "displayName": "Ardiyanto Halim",
      "userId": "08691256053057312155"
     },
     "user_tz": -420
    },
    "id": "NF23q6qz3z5T",
    "outputId": "aeea56a0-5e81-468f-b930-1eb553d27abd"
   },
   "outputs": [],
   "source": [
    "y_pred_train=np.round_(model_nn.predict(X_train))\n",
    "y_pred_test=np.round_(model_nn.predict(X_test))\n",
    "\n",
    "f1_train = f1_score(y_true=y_train, y_pred=y_pred_train)\n",
    "f1_test = f1_score(y_true=y_test, y_pred=y_pred_test)\n",
    "rec_train = recall_score(y_true=y_train, y_pred=y_pred_train)\n",
    "rec_test = recall_score(y_true=y_test, y_pred=y_pred_test)\n",
    "prec_train = precision_score(y_true=y_train, y_pred=y_pred_train)\n",
    "prec_test = precision_score(y_true=y_test, y_pred=y_pred_test)\n",
    "\n",
    "metrics_nn = pd.DataFrame({'train acc':acc_train[1]*100, \n",
    "                        'test acc':acc_test[1]*100, \n",
    "                        'train f1':f1_train, \n",
    "                        'test f1':f1_test, \n",
    "                        'train recall':rec_train, \n",
    "                        'test recall':rec_test,\n",
    "                        'train precision':prec_train, \n",
    "                        'test precision':prec_test\n",
    "                        },\n",
    "                       index=['NeuralNetwork'])\n",
    "metrics"
   ]
  },
  {
   "cell_type": "code",
   "execution_count": null,
   "metadata": {
    "colab": {
     "base_uri": "https://localhost:8080/",
     "height": 81
    },
    "executionInfo": {
     "elapsed": 24,
     "status": "ok",
     "timestamp": 1656400411398,
     "user": {
      "displayName": "Ardiyanto Halim",
      "userId": "08691256053057312155"
     },
     "user_tz": -420
    },
    "id": "xxrV4oEeOUuO",
    "outputId": "fd72bbc9-e9c4-4251-922e-9049042f382d"
   },
   "outputs": [],
   "source": [
    "metrics_nn"
   ]
  }
 ],
 "metadata": {
  "colab": {
   "authorship_tag": "ABX9TyO6+E2LuHwTHujoiT4kVzsk",
   "collapsed_sections": [],
   "name": "MLT_Projek Pertama_Prediksi Diabetes.ipynb",
   "provenance": []
  },
  "kernelspec": {
   "display_name": "Python 3 (ipykernel)",
   "language": "python",
   "name": "python3"
  },
  "language_info": {
   "codemirror_mode": {
    "name": "ipython",
    "version": 3
   },
   "file_extension": ".py",
   "mimetype": "text/x-python",
   "name": "python",
   "nbconvert_exporter": "python",
   "pygments_lexer": "ipython3",
   "version": "3.8.0"
  }
 },
 "nbformat": 4,
 "nbformat_minor": 4
}
